{
 "cells": [
  {
   "cell_type": "markdown",
   "metadata": {},
   "source": [
    "# 그림판에 자동으로 그림 그리기"
   ]
  },
  {
   "cell_type": "code",
   "execution_count": 2,
   "metadata": {},
   "outputs": [],
   "source": [
    "import pyautogui\n",
    "\n",
    "pyautogui.sleep(1)\n",
    "\n",
    "pyautogui.hotkey('win', 'r') #윈도우 실행 기능\n",
    "pyautogui.sleep(0.5)\n",
    "pyautogui.write('mspaint') #그림판 검색\n",
    "pyautogui.press('enter') #그림판 실행\n",
    "\n",
    "\n",
    "pyautogui.sleep(3)\n",
    "pyautogui.hotkey('win', 'up') #창 최대화\n",
    "pyautogui.sleep(3)\n",
    "\n",
    "pyautogui.moveTo(600,300,2) #그리기 시작 위치로 이동\n",
    "\n",
    "distance = 200 #총 픽셀 크기\n",
    "while distance > 0:\n",
    "      pyautogui.drag(distance, 0, duration=0.5) #우측으로 드래그\n",
    "      distance -= 5\n",
    "      pyautogui.drag(0, distance, duration=0.5) #아래로 드래그\n",
    "      pyautogui.drag(-distance, 0, duration=0.5) #좌측으로 드래그\n",
    "      distance -= 5\n",
    "      pyautogui.drag(0, -distance, duration=0.5) #위로 드래그"
   ]
  }
 ],
 "metadata": {
  "interpreter": {
   "hash": "da904fef6d3d21f571a32684c442a3d5f06136ad3962737ad0e04aa9c05f1d9b"
  },
  "kernelspec": {
   "display_name": "Python 3 (ipykernel)",
   "language": "python",
   "name": "python3"
  },
  "language_info": {
   "codemirror_mode": {
    "name": "ipython",
    "version": 3
   },
   "file_extension": ".py",
   "mimetype": "text/x-python",
   "name": "python",
   "nbconvert_exporter": "python",
   "pygments_lexer": "ipython3",
   "version": "3.9.7"
  }
 },
 "nbformat": 4,
 "nbformat_minor": 2
}
