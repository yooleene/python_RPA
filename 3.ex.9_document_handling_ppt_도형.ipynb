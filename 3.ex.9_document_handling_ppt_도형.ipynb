{
 "cells": [
  {
   "cell_type": "markdown",
   "source": [
    "# 도형 그리기"
   ],
   "metadata": {}
  },
  {
   "cell_type": "code",
   "execution_count": 16,
   "source": [
    "from pptx import Presentation\r\n",
    "from pptx.enum.shapes import MSO_SHAPE #PPT에 도형 삽입 시 사용\r\n",
    "from pptx.util import Inches #도형의 크기, 여백 길이 지정 시 사용\r\n",
    "from pptx.dml.color import RGBColor #도형의 색을 RGB로 넣을 때 사용\r\n",
    " \r\n",
    "prs = Presentation()\r\n",
    "\r\n",
    "slide_layout = prs.slide_layouts[6] #빈 슬라이드\r\n",
    "slide = prs.slides.add_slide(slide_layout)\r\n",
    "\r\n",
    "#직사각형 도형의 여백, 크기 설정\r\n",
    "shapes = slide.shapes\r\n",
    "left = top = Inches(1)\r\n",
    "width = Inches(8)\r\n",
    "height = Inches(5.5)\r\n",
    "shape = shapes.add_shape(MSO_SHAPE.RECTANGLE, left, top, width, height)\r\n",
    "\r\n",
    "#도형의 채우기 설정  \r\n",
    "fill = shape.fill\r\n",
    "fill.solid()\r\n",
    "# fill.patterned()\r\n",
    "fill.fore_color.rgb = RGBColor(38, 50, 70)\r\n",
    "\r\n",
    "#도형의 외곽선 설정 \r\n",
    "line = shape.line\r\n",
    "line.color.rgb = RGBColor(38, 50, 70)\r\n",
    "\r\n",
    "#기본으로 적용돼 있는 그림자 효과 제거 \r\n",
    "shadow = shape.shadow\r\n",
    "shadow.inherit = False\r\n",
    " \r\n",
    "prs.save('sample_7_ppt.pptx')"
   ],
   "outputs": [],
   "metadata": {}
  }
 ],
 "metadata": {
  "interpreter": {
   "hash": "da904fef6d3d21f571a32684c442a3d5f06136ad3962737ad0e04aa9c05f1d9b"
  },
  "kernelspec": {
   "name": "python3",
   "display_name": "Python 3.9.7 64-bit"
  },
  "language_info": {
   "codemirror_mode": {
    "name": "ipython",
    "version": 3
   },
   "file_extension": ".py",
   "mimetype": "text/x-python",
   "name": "python",
   "nbconvert_exporter": "python",
   "pygments_lexer": "ipython3",
   "version": "3.9.7"
  },
  "orig_nbformat": 4
 },
 "nbformat": 4,
 "nbformat_minor": 2
}