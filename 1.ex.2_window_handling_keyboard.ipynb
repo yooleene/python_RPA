{
 "cells": [
  {
   "cell_type": "markdown",
   "source": [
    "# 라이브러리 불러오기"
   ],
   "metadata": {}
  },
  {
   "cell_type": "code",
   "execution_count": null,
   "source": [
    "import pyautogui"
   ],
   "outputs": [],
   "metadata": {}
  },
  {
   "cell_type": "markdown",
   "source": [
    "# 키보드로 타이핑하기"
   ],
   "metadata": {}
  },
  {
   "cell_type": "code",
   "execution_count": null,
   "source": [
    "pyautogui.sleep(3) #대기 시간에 마우스를 메모장으로 이동\r\n",
    "pyautogui.write('Hello!!') #Hello!!를 타이핑"
   ],
   "outputs": [],
   "metadata": {}
  },
  {
   "cell_type": "code",
   "execution_count": null,
   "source": [
    "pyautogui.sleep(3)\r\n",
    "pyautogui.write('Hello!!', interval=0.25) #각 문자마다 0.25초 간격을 두고 타이핑"
   ],
   "outputs": [],
   "metadata": {}
  },
  {
   "cell_type": "code",
   "execution_count": null,
   "source": [
    "#한글 입력\r\n",
    "\r\n",
    "import clipboard #한글 입력을 위한 클립보드 사용\r\n",
    "\r\n",
    "pyautogui.sleep(3)\r\n",
    "clipboard.copy('안녕하세요!!') #클립보드에 텍스트를 복사\r\n",
    "pyautogui.hotkey('ctrl', 'v') #붙여넣기"
   ],
   "outputs": [],
   "metadata": {}
  },
  {
   "cell_type": "markdown",
   "source": [
    "# 핫키 사용하기"
   ],
   "metadata": {}
  },
  {
   "cell_type": "code",
   "execution_count": null,
   "source": [
    "pyautogui.hotkey('ctrl', 'c') #ctrl + c 키를 입력"
   ],
   "outputs": [],
   "metadata": {}
  },
  {
   "cell_type": "code",
   "execution_count": null,
   "source": [
    "pyautogui.hotkey('shift', 'enter') #shift + enter 키를 누름"
   ],
   "outputs": [],
   "metadata": {}
  },
  {
   "cell_type": "markdown",
   "source": [
    "# 키보드의 키 누르기"
   ],
   "metadata": {}
  },
  {
   "cell_type": "code",
   "execution_count": null,
   "source": [
    "pyautogui.keyDown('shift') # 키를 누르고 있는 상태"
   ],
   "outputs": [],
   "metadata": {}
  },
  {
   "cell_type": "code",
   "execution_count": null,
   "source": [
    "pyautogui.keyUp('shift') # 눌렸던 키는 떼는 것"
   ],
   "outputs": [],
   "metadata": {}
  },
  {
   "cell_type": "code",
   "execution_count": null,
   "source": [
    "# 늘럿다가 떼는 것\r\n",
    "pyautogui.press('shift') \r\n",
    "pyautogui.press('enter')\r\n",
    "pyautogui.press('enter', 'enter', 'enter') #enter키를 세번 입력\r\n",
    "pyautogui.press('enter', presses=5) #enter키를 5번 입력"
   ],
   "outputs": [],
   "metadata": {}
  }
 ],
 "metadata": {
  "interpreter": {
   "hash": "da904fef6d3d21f571a32684c442a3d5f06136ad3962737ad0e04aa9c05f1d9b"
  },
  "kernelspec": {
   "name": "python3",
   "display_name": "Python 3.9.7 64-bit"
  },
  "language_info": {
   "codemirror_mode": {
    "name": "ipython",
    "version": 3
   },
   "file_extension": ".py",
   "mimetype": "text/x-python",
   "name": "python",
   "nbconvert_exporter": "python",
   "pygments_lexer": "ipython3",
   "version": "3.9.7"
  },
  "orig_nbformat": 4
 },
 "nbformat": 4,
 "nbformat_minor": 2
}