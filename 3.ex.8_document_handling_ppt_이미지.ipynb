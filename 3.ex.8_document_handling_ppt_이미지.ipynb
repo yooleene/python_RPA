{
 "cells": [
  {
   "cell_type": "markdown",
   "source": [
    "# 이미지 삽입"
   ],
   "metadata": {}
  },
  {
   "cell_type": "code",
   "execution_count": 14,
   "source": [
    "from pptx import Presentation\r\n",
    "from pptx.util import Inches\r\n",
    " \r\n",
    "prs = Presentation()\r\n",
    " \r\n",
    "slide_layout = prs.slide_layouts[6] #빈 슬라이드\r\n",
    "slide = prs.slides.add_slide(slide_layout)\r\n",
    " \r\n",
    "img = 'beach.jpg' #이미지 파일명\r\n",
    "\r\n",
    "#삽입할 이미지 여백과 높이 \r\n",
    "top = Inches(0.75)\r\n",
    "left = Inches(0.5)\r\n",
    "height = Inches(6)\r\n",
    "pic = slide.shapes.add_picture(img, left, top, height=height)\r\n",
    " \r\n",
    "prs.save('sample_6_ppt.pptx')"
   ],
   "outputs": [],
   "metadata": {}
  }
 ],
 "metadata": {
  "interpreter": {
   "hash": "da904fef6d3d21f571a32684c442a3d5f06136ad3962737ad0e04aa9c05f1d9b"
  },
  "kernelspec": {
   "name": "python3",
   "display_name": "Python 3.9.7 64-bit"
  },
  "language_info": {
   "codemirror_mode": {
    "name": "ipython",
    "version": 3
   },
   "file_extension": ".py",
   "mimetype": "text/x-python",
   "name": "python",
   "nbconvert_exporter": "python",
   "pygments_lexer": "ipython3",
   "version": "3.9.7"
  },
  "orig_nbformat": 4
 },
 "nbformat": 4,
 "nbformat_minor": 2
}