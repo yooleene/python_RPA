{
 "cells": [
  {
   "cell_type": "markdown",
   "source": [
    "# 도형을 연속으로 그리기"
   ],
   "metadata": {}
  },
  {
   "cell_type": "code",
   "execution_count": 63,
   "source": [
    "from pptx import Presentation\r\n",
    "from pptx.enum.shapes import MSO_SHAPE\r\n",
    "from pptx.util import Inches\r\n",
    "\r\n",
    "prs = Presentation()\r\n",
    "slide_layout = prs.slide_layouts[5]\r\n",
    "slide = prs.slides.add_slide(slide_layout)\r\n",
    "shapes = slide.shapes\r\n",
    "\r\n",
    "shapes.title.text = '도형을 연속으로 그리기'\r\n",
    "\r\n",
    "left = Inches(0.93)  # 0.93\" centers this overall set of shapes\r\n",
    "top = Inches(3.0)\r\n",
    "width = Inches(1.75)\r\n",
    "height = Inches(1.0)\r\n",
    "\r\n",
    "shape = shapes.add_shape(MSO_SHAPE.PENTAGON, left, top, width, height)\r\n",
    "shape.text = 'Step 1'\r\n",
    "\r\n",
    "left = left + width - Inches(0.4)\r\n",
    "width = Inches(2.0)\r\n",
    "\r\n",
    "for n in range(2, 6):\r\n",
    "    shape = shapes.add_shape(MSO_SHAPE.CHEVRON, left, top, width, height)\r\n",
    "    shape.text = 'Step %d' % n\r\n",
    "    left = left + width - Inches(0.4)\r\n",
    "\r\n",
    "prs.save('sample_8_ppt.pptx')"
   ],
   "outputs": [],
   "metadata": {}
  }
 ],
 "metadata": {
  "interpreter": {
   "hash": "da904fef6d3d21f571a32684c442a3d5f06136ad3962737ad0e04aa9c05f1d9b"
  },
  "kernelspec": {
   "name": "python3",
   "display_name": "Python 3.9.7 64-bit"
  },
  "language_info": {
   "codemirror_mode": {
    "name": "ipython",
    "version": 3
   },
   "file_extension": ".py",
   "mimetype": "text/x-python",
   "name": "python",
   "nbconvert_exporter": "python",
   "pygments_lexer": "ipython3",
   "version": "3.9.7"
  },
  "orig_nbformat": 4
 },
 "nbformat": 4,
 "nbformat_minor": 2
}