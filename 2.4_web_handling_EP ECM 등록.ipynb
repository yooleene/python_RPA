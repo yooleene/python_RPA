{
 "cells": [
  {
   "cell_type": "markdown",
   "metadata": {},
   "source": [
    "# 1.EP 로그인 정보 입력(ID, PASS)"
   ]
  },
  {
   "cell_type": "code",
   "execution_count": null,
   "metadata": {},
   "outputs": [],
   "source": [
    "#xpath는 회사마다 다르므로 다시 설정\n",
    "\n",
    "import pyautogui\n",
    "\n",
    "my_id = 'user_id'\n",
    "my_pw = pyautogui.password(title='EP_PASS', text='패스워드를 입력하세요', default='')"
   ]
  },
  {
   "cell_type": "markdown",
   "metadata": {},
   "source": [
    "# 2.EP 접속"
   ]
  },
  {
   "cell_type": "code",
   "execution_count": null,
   "metadata": {},
   "outputs": [],
   "source": [
    "from selenium import webdriver\n",
    "import clipboard\n",
    "\n",
    "#웹드라이버 설정 및 EP 열기\n",
    "driver = webdriver.Ie('IEDriverServer')\n",
    "driver.get('http://swp.posco.net')\n",
    "driver.maximize_window()\n",
    "\n",
    "#로그인\n",
    "driver.find_element_by_xpath('//*[@id=\"username\"]').send_keys(my_id)\n",
    "driver.find_element_by_xpath('//*[@id=\"password\"]').send_keys(my_pw)\n",
    "driver.find_element_by_xpath('//*[@id=\"loginsubmit\"]').click()\n",
    "driver.implicitly_wait(10) #드라이버가 로딩되는데 10초까지 대기, 빨리 로딩되면 다음 코드 진행\n",
    "\n",
    "# 로그인시 발생하는 예외 처리\n",
    "try:  # 기존 로그인 경고창이 열릴 경우 alert accept 처리\n",
    "    alert=driver.switch_to.alert\n",
    "    alert.accept()\n",
    "except:\n",
    "    print(\"기존 로그인 경고창 없음. 계속 진행.\")  # 경고창이 열리지 않을 경우\n"
   ]
  },
  {
   "cell_type": "markdown",
   "metadata": {},
   "source": [
    "# 3.ECM 화면 열기"
   ]
  },
  {
   "cell_type": "code",
   "execution_count": null,
   "metadata": {},
   "outputs": [],
   "source": [
    "pyautogui.sleep(15) #로그인 되는 시간을 충분히 줌\n",
    "\n",
    "#활성화 된 창 중에서 현재창이 맞는지 확인하여  클릭\n",
    "for i in range(-1, len(driver.window_handles)):\n",
    "      success_check = False\n",
    "      driver.switch_to.window(driver.window_handles[i])\n",
    "      this_page_title = driver.title\n",
    "      if \"EP(Enterprise Portal)\" in this_page_title:\n",
    "            for j in range(3):\n",
    "                  try:\n",
    "                        print('ECM 아이콘 클릭 시도중...')\n",
    "                        driver.find_element_by_xpath('//*[@id=\"544672\"]/a[1]/span[1]/img').click()\n",
    "                  except:\n",
    "                        print('ECM 아이콘 클릭 예외발생... 재시도중')\n",
    "                  else:\n",
    "                        print('ECM 아이콘 클릭 완료')\n",
    "                        success_check = True\n",
    "                        break\n",
    "            break\n",
    "\n",
    "if success_check is False:\n",
    "      print('진행 중 오류가 발생하였습니다. 재시도해 주십시오.')\n",
    "      sys.exit()"
   ]
  },
  {
   "cell_type": "markdown",
   "metadata": {},
   "source": [
    "# 4.컨텐츠 등록화면 열기"
   ]
  },
  {
   "cell_type": "code",
   "execution_count": null,
   "metadata": {},
   "outputs": [],
   "source": [
    "pyautogui.sleep(10) \n",
    "\n",
    "#활성화 된 창 중에서 현재창이 맞는지 확인하여 클릭\n",
    "for i in range(-1, len(driver.window_handles)):\n",
    "      success_check = False\n",
    "      driver.switch_to.window(driver.window_handles[i])\n",
    "      this_page_title = driver.title\n",
    "      if \"ECM(Enterprise Contents Management)\" in this_page_title:\n",
    "            for j in range(3):\n",
    "                  try:\n",
    "                        print('컨텐츠 등록 클릭 시도중...')\n",
    "                        driver.find_element_by_xpath('//*[@id=\"registerBtn\"]/div/a[1]').click()\n",
    "                  except:\n",
    "                        print('컨텐츠 등록 클릭 예외발생... 재시도중')\n",
    "                  else:\n",
    "                        print('컨텐츠 등록 클릭 완료')\n",
    "                        success_check = True\n",
    "                        break\n",
    "            break\n",
    "\n",
    "if success_check is False:\n",
    "      print('진행 중 오류가 발생하였습니다. 재시도해 주십시오.')\n",
    "      sys.exit()"
   ]
  },
  {
   "cell_type": "markdown",
   "metadata": {},
   "source": [
    "# 5.파일 첨부, 등록"
   ]
  },
  {
   "cell_type": "code",
   "execution_count": null,
   "metadata": {},
   "outputs": [],
   "source": [
    "pyautogui.sleep(3)\n",
    "\n",
    "import time\n",
    "import sys\n",
    "\n",
    "file_name = 'C:\\Users\\poscouser\\python_RPA\\wb_data.xlsx'\n",
    "\n",
    "clipboard.copy(file_name)\n",
    "pyautogui.sleep(0.5)\n",
    "pyautogui.hotkey('ctrl','v') #파일명 입력\n",
    "pyautogui.sleep(0.5)\n",
    "pyautogui.press('enter') #열기\n",
    "pyautogui.sleep(1)\n",
    "\n",
    "#최근저장 버튼 클릭\n",
    "timeout = 20 #20초 대기\n",
    "start = time.time() #시작시간 설정\n",
    "btn_reg1 = None\n",
    "while btn_reg1 is None: #찾을 때까지 반복\n",
    "    btn_reg1 = pyautogui.locateOnScreen('btn_reg1.png', confidence=0.8)\n",
    "    end = time.time() #종료시간 설정\n",
    "    if end - start > timeout: #지정한을 초과하면\n",
    "        print(\"시간종료-최근저장 버튼 클릭 실패\")\n",
    "        sys.exit()\n",
    "pyautogui.click(btn_reg1)\n",
    "pyautogui.sleep(3)\n",
    "\n",
    "#가장 최근(첫번째) 선택\n",
    "start = time.time() #시작시간 설정\n",
    "btn_reg2 = None\n",
    "btn_reg2 = pyautogui.locateOnScreen('btn_reg2.png', confidence=0.8)\n",
    "while btn_reg2 is None: #찾을 때까지 반복\n",
    "    btn_reg2 = pyautogui.locateOnScreen('btn_reg2.png', confidence=0.8)\n",
    "    end = time.time() #종료시간 설정\n",
    "    if end - start > timeout: #지정한을 초과하면\n",
    "        print(\"시간종료-가장 최근(첫번째) 선택 실패\")\n",
    "        sys.exit()\n",
    "pyautogui.click(btn_reg2)\n",
    "pyautogui.sleep(3)\n",
    "\n",
    "#보안등급 선택\n",
    "start = time.time() #시작시간 설정\n",
    "btn_reg3 = None\n",
    "btn_reg3 = pyautogui.locateOnScreen('btn_reg3.png', confidence=0.8)\n",
    "while btn_reg3 is None: #찾을 때까지 반복\n",
    "    btn_reg3 = pyautogui.locateOnScreen('btn_reg3.png', confidence=0.8)\n",
    "    end = time.time() #종료시간 설정\n",
    "    if end - start > timeout: #지정한 시간을 초과하면\n",
    "        print(\"시간종료-보안등급 선택 실패\")\n",
    "        sys.exit()\n",
    "pyautogui.click(btn_reg3)\n",
    "pyautogui.sleep(3)\n",
    "\n",
    "#보안등급 사외비A(공개)로 선택하면 보안 알림창 확인(엔터)버튼 클릭 필요\n",
    "pyautogui.press('enter')\n",
    "pyautogui.sleep(1)\n",
    "\n",
    "#등록하기\n",
    "start = time.time() #시작시간 설정\n",
    "btn_reg4 = None\n",
    "btn_reg4 = pyautogui.locateOnScreen('btn_reg4.png', confidence=0.8)\n",
    "while btn_reg4 is None: #찾을 때까지 반복\n",
    "    btn_reg4 = pyautogui.locateOnScreen('btn_reg4.png', confidence=0.8)\n",
    "    end = time.time() #종료시간 설정\n",
    "    if end - start > timeout: #지정한 시간을 초과하면\n",
    "        print(\"시간종료-등록하기 실패\")\n",
    "        sys.exit()\n",
    "pyautogui.click(btn_reg4)\n",
    "pyautogui.sleep(10)\n",
    "pyautogui.press('enter') #등록완료 확인창 확인버튼\n",
    "pyautogui.sleep(3)\n",
    "pyautogui.hotkey('alt','f4') #ECM 창 닫기"
   ]
  }
 ],
 "metadata": {
  "interpreter": {
   "hash": "da904fef6d3d21f571a32684c442a3d5f06136ad3962737ad0e04aa9c05f1d9b"
  },
  "kernelspec": {
   "display_name": "Python 3.9.7 64-bit",
   "name": "python3"
  },
  "language_info": {
   "codemirror_mode": {
    "name": "ipython",
    "version": 3
   },
   "file_extension": ".py",
   "mimetype": "text/x-python",
   "name": "python",
   "nbconvert_exporter": "python",
   "pygments_lexer": "ipython3",
   "version": "3.8.10"
  },
  "orig_nbformat": 4
 },
 "nbformat": 4,
 "nbformat_minor": 2
}
