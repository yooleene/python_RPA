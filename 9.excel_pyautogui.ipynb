{
 "cells": [
  {
   "cell_type": "markdown",
   "metadata": {},
   "source": [
    "#### 라이브러리 불러오기"
   ]
  },
  {
   "cell_type": "code",
   "execution_count": 17,
   "metadata": {},
   "outputs": [],
   "source": [
    "import pyautogui as pg\n",
    "import clipboard #한글 입력을 위해 필요"
   ]
  },
  {
   "cell_type": "markdown",
   "metadata": {},
   "source": [
    "#### 샘플 데이터 입력하기"
   ]
  },
  {
   "cell_type": "code",
   "execution_count": 18,
   "metadata": {},
   "outputs": [],
   "source": [
    "#샘플로 사용할 데이터를 ‘score’ 변수에 저장\n",
    "score = [\n",
    "    ('홍길동1','80','90','70'),\n",
    "    ('홍길동2','90','85','75'),\n",
    "    ('홍길동3','60','85','65'),\n",
    "    ('홍길동4','100','100','100'),\n",
    "    ('홍길동5','90','95','95')\n",
    "    ]"
   ]
  },
  {
   "cell_type": "markdown",
   "metadata": {},
   "source": [
    "#### 엑셀 실행"
   ]
  },
  {
   "cell_type": "code",
   "execution_count": 19,
   "metadata": {},
   "outputs": [],
   "source": [
    "pg.sleep(1)\n",
    "pg.hotkey(\"win\",'r') #윈도우 실행 기능 단축키\n",
    "pg.sleep(1)\n",
    "pg.write('excel') #검색어로 ‘excel’이라고 입력\n",
    "pg.press('enter')\n",
    "pg.sleep(10)"
   ]
  },
  {
   "cell_type": "markdown",
   "metadata": {},
   "source": [
    "#### 데이터 입력 및 계산하기(총점 및 평균)"
   ]
  },
  {
   "cell_type": "code",
   "execution_count": 20,
   "metadata": {},
   "outputs": [],
   "source": [
    "#엑셀창 활성화\n",
    "win = pg.getWindowsWithTitle('통합')[0]\n",
    "win.activate()\n",
    "\n",
    "pg.sleep(1) #실습시 단계별 실행시 대기시간에 엑셀 클릭(활성화)\n",
    "clipboard.copy(\"성명\\t국어\\t영어\\t수학\") #샘플로 입력하여 사용할 데이터의 열제목을 클립보드에 복사\n",
    "#\\t는 tab(엑셀에서는 우측 열에 입력), \\n은 newline(엑셀에서는 다음 행에 입력) \n",
    "\n",
    "pg.sleep(0.5)\n",
    "pg.hotkey(\"ctrl\",\"v\") #클립보드에 복사한 데이터를 엑셀에 붙임\n",
    "pg.press('down') #D1에서 A2셀로 이동\n",
    "# pg.press(['home', 'enter'], interval=0.1) #D1에서 A2셀로 이동하기 위해 home키, enter키를 0.1초 간격으로 누름\n",
    "\n",
    "#for 문을 사용하여 순환하며 score 변수에 저장된 성적 데이터를 현재 활성화된 셀인 A2셀부터 입력\n",
    "for i in score:\n",
    "    clipboard.copy(i[0])\n",
    "    pg.hotkey(\"ctrl\",'v')\n",
    "    pg.press('right')\n",
    "    pg.write(i[1],interval=0.01)\n",
    "    # pg.write('{}'.format(i[1]),interval=0.01)\n",
    "    pg.press('right')\n",
    "    pg.write(i[2],interval=0.01)\n",
    "    # pg.write('{}'.format(i[2]),interval=0.01)\n",
    "    pg.press('right')\n",
    "    pg.write(i[3],interval=0.01)\n",
    "    # pg.write('{}'.format(i[3]),interval=0.01)\n",
    "    pg.press(['enter','home'])\n",
    "\n",
    "# pg.typewrite(['up', 'up', 'up', 'up', 'up', 'up'], interval=0.1) #총점과 평균 제목을 입력하기 위해 키보드로 이동\n",
    "pg.hotkey('ctrl','home') #총점과 평균 제목을 입력하기 위해 이동\n",
    "pg.press('right', presses=4, interval=0.1) #총점과 평균 제목을 입력하기 위해 키보드로 이동\n",
    "clipboard.copy('총점\\t평균') \n",
    "pg.sleep(0.1)\n",
    "pg.hotkey('ctrl', 'v') #총점과 평균 제목을 입력\n",
    "pg.press('down')\n",
    "\n",
    "for i in range(len(score)): #반복하며 sum, average 함수를 입력\n",
    "    pg.write(f'=sum(B{2+i}:D{2+i})', interval=0.01) #f = f-string\n",
    "    pg.press('right')\n",
    "    pg.write(f'=average(B{2+i}:D{2+i})', interval=0.01)\n",
    "    pg.press(['enter','left'])"
   ]
  },
  {
   "cell_type": "markdown",
   "metadata": {},
   "source": [
    "#### 정렬 및 표 만들기"
   ]
  },
  {
   "cell_type": "code",
   "execution_count": 12,
   "metadata": {},
   "outputs": [],
   "source": [
    "pg.sleep(3) #실습시 단계별 실행시 대기시간에 엑셀 클릭(활성화)\n",
    "pg.hotkey('ctrl', 'g')  #특정 셀로 이동할 수 있는 창을 실행\n",
    "pg.write('a1', interval=0.1)  #이동 창에 참조 셀을 ‘a1’을 입력하여 ‘A1’셀로 이동 \n",
    "pg.press('enter')\n",
    "pg.sleep(0.5)\n",
    "pg.hotkey('ctrl', 'a')  #데이터가 있는 전체 셀을 선택 선택\n",
    "pg.sleep(0.5)\n",
    "pg.hotkey('alt', 'h')  #단축키를 사용하여 가운데 정렬\n",
    "pg.press(['c','2'])\n",
    "# pg.press('c')\n",
    "# pg.press('2')\n",
    "pg.sleep(0.5)\n",
    "pg.hotkey('ctrl', 't')  #핫키(ctrl+t)를 입력하여 표 만들기를 설정\n",
    "pg.press('enter')\n",
    "pg.hotkey('ctrl', 'g') \n",
    "pg.write('e1', interval=0.1) #총점 순으로 정렬하기 위해 E1셀로 이동\n",
    "pg.press('enter')\n",
    "pg.hotkey('alt', 'a') #내림차순으로 정렬\n",
    "pg.press(['s','d'])\n",
    "# pg.press('s')\n",
    "# pg.press('d')"
   ]
  },
  {
   "cell_type": "markdown",
   "metadata": {},
   "source": [
    "#### 저장 및 닫기"
   ]
  },
  {
   "cell_type": "code",
   "execution_count": 13,
   "metadata": {},
   "outputs": [],
   "source": [
    "pg.sleep(3) #실습시 단계별 실행시 대기시간에 엑셀 클릭(활성화)\n",
    "pg.hotkey('alt', 'f2')\n",
    "pg.write(r'C:\\Users\\poscouser\\Desktop\\score.xlsx', interval=0.1) #바탕화면에 저장\n",
    "pg.press('enter')\n",
    "pg.hotkey('alt', 'f4')"
   ]
  }
 ],
 "metadata": {
  "kernelspec": {
   "display_name": "Python 3.8.10 64-bit",
   "language": "python",
   "name": "python3"
  },
  "language_info": {
   "codemirror_mode": {
    "name": "ipython",
    "version": 3
   },
   "file_extension": ".py",
   "mimetype": "text/x-python",
   "name": "python",
   "nbconvert_exporter": "python",
   "pygments_lexer": "ipython3",
   "version": "3.8.10"
  },
  "vscode": {
   "interpreter": {
    "hash": "e2782e0ab7cab974e8fb2dfc8cec048a29dc3b50e54743df0c4a34ac41b2be7e"
   }
  }
 },
 "nbformat": 4,
 "nbformat_minor": 4
}
