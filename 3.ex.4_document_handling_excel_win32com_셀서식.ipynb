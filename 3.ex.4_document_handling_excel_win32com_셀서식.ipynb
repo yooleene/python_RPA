{
 "cells": [
  {
   "cell_type": "markdown",
   "source": [
    "# 라이브러리 불러오기"
   ],
   "metadata": {}
  },
  {
   "cell_type": "code",
   "execution_count": null,
   "source": [
    "import win32com.client"
   ],
   "outputs": [],
   "metadata": {}
  },
  {
   "cell_type": "markdown",
   "source": [
    "# 엑셀 프로그램 실행"
   ],
   "metadata": {}
  },
  {
   "cell_type": "code",
   "execution_count": null,
   "source": [
    "excel = win32com.client.Dispatch('Excel.Application')\r\n",
    "excel.Visible = True"
   ],
   "outputs": [],
   "metadata": {}
  },
  {
   "cell_type": "markdown",
   "source": [
    "# 워크북/시트 생성"
   ],
   "metadata": {}
  },
  {
   "cell_type": "code",
   "execution_count": null,
   "source": [
    "wb = excel.Workbooks.Add()\r\n",
    "ws = wb.Worksheets('sheet1')"
   ],
   "outputs": [],
   "metadata": {}
  },
  {
   "cell_type": "markdown",
   "source": [
    "# 셀 배경색 설정"
   ],
   "metadata": {}
  },
  {
   "cell_type": "code",
   "execution_count": null,
   "source": [
    "ws.Range('B2').Interior.ColorIndex = 27"
   ],
   "outputs": [],
   "metadata": {}
  },
  {
   "cell_type": "markdown",
   "source": [
    "# 폰트 설정"
   ],
   "metadata": {}
  },
  {
   "cell_type": "code",
   "execution_count": null,
   "source": [
    "ws.Range('D2:E5').Font.Size = 16\r\n",
    "ws.Range('D2:E5').Font.Bold = True\r\n",
    "ws.Range('D2:E5').Font.Italic = True\r\n",
    "ws.Range('D2:E5').Font.Name = 'HY견고딕'"
   ],
   "outputs": [],
   "metadata": {}
  },
  {
   "cell_type": "markdown",
   "source": [
    "# 셀 테두리 설정"
   ],
   "metadata": {}
  },
  {
   "cell_type": "code",
   "execution_count": null,
   "source": [
    "ws.Range(\"B2\").BorderAround(ColorIndex = 3,Weight = 3,LineStyle = 1)\r\n",
    "ws.Range(\"B4\").BorderAround(ColorIndex = 3,Weight = 3,LineStyle = 2)\r\n",
    "ws.Range(\"B6\").BorderAround(ColorIndex = 3,Weight = 3,LineStyle = 3)\r\n",
    "ws.Range(\"B8\").BorderAround(ColorIndex = 3,Weight = 3,LineStyle = 4)\r\n",
    "ws.Range(\"B10\").BorderAround(ColorIndex = 3,Weight = 3,LineStyle = 5)\r\n",
    "ws.Range(\"D2\").BorderAround(ColorIndex = 1,Weight = 4,LineStyle = 1)\r\n",
    "ws.Range(\"D4\").BorderAround(ColorIndex = 1,Weight = 4,LineStyle = 2)\r\n",
    "ws.Range(\"D6\").BorderAround(ColorIndex = 1,Weight = 4,LineStyle = 3)\r\n",
    "ws.Range(\"D8\").BorderAround(ColorIndex = 1,Weight = 4,LineStyle = 4)\r\n",
    "ws.Range(\"D10\").BorderAround(ColorIndex = 1,Weight = 4,LineStyle = 5)"
   ],
   "outputs": [],
   "metadata": {}
  }
 ],
 "metadata": {
  "interpreter": {
   "hash": "da904fef6d3d21f571a32684c442a3d5f06136ad3962737ad0e04aa9c05f1d9b"
  },
  "kernelspec": {
   "name": "python3",
   "display_name": "Python 3.9.7 64-bit"
  },
  "language_info": {
   "name": "python",
   "version": "3.9.7",
   "mimetype": "text/x-python",
   "codemirror_mode": {
    "name": "ipython",
    "version": 3
   },
   "pygments_lexer": "ipython3",
   "nbconvert_exporter": "python",
   "file_extension": ".py"
  },
  "orig_nbformat": 4
 },
 "nbformat": 4,
 "nbformat_minor": 2
}