{
 "cells": [
  {
   "cell_type": "markdown",
   "metadata": {},
   "source": [
    "# 네이버 날씨창 연속으로 자동 캡처하기"
   ]
  },
  {
   "cell_type": "code",
   "execution_count": null,
   "metadata": {},
   "outputs": [],
   "source": [
    "# screenshot 활용\n",
    "\n",
    "\n",
    "# 날씨 창 좌표(position 함수 활용) : 1600, 325   1891, 367\n",
    "\n",
    "import pyautogui\n",
    "import datetime #캡처한 이미지를 파일로 저장할 때 서로 중복되지 않도록, 파일명에 일시를 사용\n",
    "\n",
    "#사용자로부터 캡처할 횟수를 입력 받아 str_cap_num 변수에 저장\n",
    "str_cap_num = pyautogui.prompt(title='캡처횟수', text='캡처횟수를 입력하세요', default='')\n",
    "int_cap_num = int(str_cap_num) #입력 받은 캡처 횟수는 string type이므로 이후에 숫자로 사용하기 위해 integer type으로 변환\n",
    "\n",
    "i=0\n",
    "while i < int_cap_num: #입력 받은 정수 만큼 캡처하기 위해 반복문(while)을 사용\n",
    "\n",
    "      i+=1\n",
    "\n",
    "      #현재시간으로 저장하기\n",
    "      #캡처를 여러 번 하기 때문에 이미지를 저장할 때 파일명이 중복되면 안 되므로 datetime을 활용하여 파일명을 만듬\n",
    "      now_date = datetime.datetime.now().strftime('%y%m%d_%H%M%S') #현재 일시를 형식을 지정하여 now_date 변수에 저장\n",
    "      file_name = 'weather_' + now_date + '.png' #파일명을 'weather_현재일시(now_date).png' 형태로 file_name 변수에 저장\n",
    "\n",
    "      #스크린샷을 이미지 저장할 때는 pillow 라이브러리가 설치되어 있어야 함(아나콘다에는 자동 설치되어 있음)\n",
    "      pyautogui.screenshot(file_name, region=(1257,317, (1538-1257),(357-317)))\n",
    "      pyautogui.sleep(3) #한 번 캡처하고, 다음 캡처를 시작할 때까지 대기"
   ]
  },
  {
   "cell_type": "code",
   "execution_count": 1,
   "metadata": {},
   "outputs": [],
   "source": [
    "#캡처툴 활용\n",
    "\n",
    "import pyautogui\n",
    "import datetime #캡처한 이미지를 파일로 저장할 때 서로 중복되지 않도록, 파일명에 일시를 사용\n",
    "\n",
    "#사용자로부터 캡처할 횟수를 입력 받아 str_cap_num 변수에 저장\n",
    "str_cap_num = pyautogui.prompt(title='캡처횟수', text='캡처횟수를 입력하세요', default='')\n",
    "int_cap_num = int(str_cap_num) #입력 받은 캡처 횟수는 string type이므로 이후에 숫자로 사용하기 위해 integer type으로 변환\n",
    "\n",
    "i=0\n",
    "while i < int_cap_num: #입력 받은 정수 만큼 캡처하기 위해 반복문(while)을 사용\n",
    "\n",
    "      i+=1\n",
    "\n",
    "      #캡처하기 위해 윈도우에서 기본으로 제공하는 캡처 도구(snippingtool)를 실행\n",
    "      pyautogui.hotkey('win', 'r') #윈도우 실행 단축키 win+r을 사용\n",
    "      pyautogui.sleep(0.5)\n",
    "      pyautogui.write('snippingtool') #윈도우 캡처 도구인 snippingtool를 입력\n",
    "      pyautogui.press('enter') #엔터키를 입력하여 캡처 도구 실행\n",
    "      pyautogui.sleep(1)\n",
    "\n",
    "      #캡처하기\n",
    "      pyautogui.moveTo(1600, 325) #네이버 날씨 영역의 좌측 상단으로 이동\n",
    "      pyautogui.sleep(0.5)\n",
    "      pyautogui.hotkey('alt', 'n') #캡처 도구의 새로 만들(새 캡처) 메뉴를 alt+n 단축키를 사용하여 실행\n",
    "      pyautogui.sleep(1)\n",
    "      pyautogui.dragTo(1891, 367, duration=2) #드래그하여 캡처 \n",
    "      pyautogui.sleep(1)\n",
    "\n",
    "      #현재시간으로 저장하기\n",
    "      #캡처를 여러 번 하기 때문에 이미지를 저장할 때 파일명이 중복되면 안 되므로 datetime을 활용하여 파일명을 만듬\n",
    "      now_date = datetime.datetime.now().strftime('%y%m%d_%H%M%S') #현재 일시를 형식을 지정하여 now_date 변수에 저장\n",
    "      file_name = 'weather_' + now_date + '.png' #파일명을 'weather_현재일시(now_date).png' 형태로 file_name 변수에 저장\n",
    "\n",
    "      pyautogui.hotkey('ctrl', 's') #다른 이름으로 저장하기 메뉴를 ctr+s 단축키를 사용하여 실행\n",
    "      pyautogui.sleep(0.5)\n",
    "      pyautogui.write(file_name) #파일 이름을 입력\n",
    "      pyautogui.hotkey('alt','s') #저장 버튼을 alt+s 단축키를 사용하여 누름\n",
    "      pyautogui.sleep(0.5)\n",
    "\n",
    "      #캡처도구 닫기\n",
    "      pyautogui.hotkey('alt', 'f') #파일 메뉴를 alt+f 단축키를 사용하여 실행\n",
    "      pyautogui.sleep(0.5)\n",
    "      pyautogui.press('x') #끝내기 단축키를 사용하여 캡처 도구를 닫음\n",
    "\n",
    "      pyautogui.sleep(5) #한 번 캡처하고, 다음 캡처를 시작할 때까지 대기"
   ]
  }
 ],
 "metadata": {
  "interpreter": {
   "hash": "da904fef6d3d21f571a32684c442a3d5f06136ad3962737ad0e04aa9c05f1d9b"
  },
  "kernelspec": {
   "display_name": "Python 3.9.7 64-bit",
   "name": "python3"
  },
  "language_info": {
   "codemirror_mode": {
    "name": "ipython",
    "version": 3
   },
   "file_extension": ".py",
   "mimetype": "text/x-python",
   "name": "python",
   "nbconvert_exporter": "python",
   "pygments_lexer": "ipython3",
   "version": "3.9.7"
  }
 },
 "nbformat": 4,
 "nbformat_minor": 4
}
