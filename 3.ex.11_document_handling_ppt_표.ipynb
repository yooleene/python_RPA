{
 "cells": [
  {
   "cell_type": "markdown",
   "source": [
    "# 표 그리기"
   ],
   "metadata": {}
  },
  {
   "cell_type": "code",
   "execution_count": 1,
   "source": [
    "from pptx import Presentation\r\n",
    "from pptx.util import Inches\r\n",
    "\r\n",
    "prs = Presentation()\r\n",
    "\r\n",
    "slide_layout = prs.slide_layouts[5] # 5는 '제목만' 슬라이드\r\n",
    "slide = prs.slides.add_slide(slide_layout)\r\n",
    "shapes = slide.shapes\r\n",
    "\r\n",
    "title_shape = slide.placeholders[0] #제목을 의미하는 placeholder에 '표만들기'를 설정\r\n",
    "title_shape.text = '표 만들기'\r\n",
    "\r\n",
    "rows = cols = 2 #행 2열\r\n",
    "left = top = Inches(2.0)\r\n",
    "width = Inches(6.0)\r\n",
    "height = Inches(0.8)\r\n",
    "\r\n",
    "table = shapes.add_table(rows, cols, left, top, width, height).table\r\n",
    "\r\n",
    "#칼럼 크기 \r\n",
    "table.columns[0].width = Inches(2.0)\r\n",
    "table.columns[1].width = Inches(4.0)\r\n",
    "\r\n",
    "# write column headings\r\n",
    "table.cell(0, 0).text = '회사'\r\n",
    "table.cell(0, 1).text = '규모'\r\n",
    "\r\n",
    "# write body cells\r\n",
    "table.cell(1, 0).text = 'A주식회사'\r\n",
    "table.cell(1, 1).text = '대기업'\r\n",
    "\r\n",
    "prs.save('sample_9_ppt.pptx')"
   ],
   "outputs": [],
   "metadata": {}
  }
 ],
 "metadata": {
  "interpreter": {
   "hash": "da904fef6d3d21f571a32684c442a3d5f06136ad3962737ad0e04aa9c05f1d9b"
  },
  "kernelspec": {
   "name": "python3",
   "display_name": "Python 3.9.7 64-bit"
  },
  "language_info": {
   "codemirror_mode": {
    "name": "ipython",
    "version": 3
   },
   "file_extension": ".py",
   "mimetype": "text/x-python",
   "name": "python",
   "nbconvert_exporter": "python",
   "pygments_lexer": "ipython3",
   "version": "3.9.7"
  },
  "orig_nbformat": 4
 },
 "nbformat": 4,
 "nbformat_minor": 2
}