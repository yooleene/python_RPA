{
 "cells": [
  {
   "cell_type": "markdown",
   "source": [
    "# 라이브러리 불러오기"
   ],
   "metadata": {}
  },
  {
   "cell_type": "code",
   "execution_count": null,
   "source": [
    "from pptx import Presentation"
   ],
   "outputs": [],
   "metadata": {}
  },
  {
   "cell_type": "markdown",
   "source": [
    "# 프리젠테이션 생성"
   ],
   "metadata": {}
  },
  {
   "cell_type": "code",
   "execution_count": 56,
   "source": [
    "prs = Presentation() #파워포인트 객체 선언\r\n",
    "prs.save('sample_1_ppt.pptx') #ppt 저장"
   ],
   "outputs": [],
   "metadata": {}
  },
  {
   "cell_type": "markdown",
   "source": [
    "# 기존 파일 열기"
   ],
   "metadata": {}
  },
  {
   "cell_type": "code",
   "execution_count": 57,
   "source": [
    "prs = Presentation('sample_1_ppt.pptx') \r\n",
    "prs.save('sample_2_ppt.pptx') #새 이름으로 저장"
   ],
   "outputs": [],
   "metadata": {}
  },
  {
   "cell_type": "markdown",
   "source": [
    "# 슬라이드 생성"
   ],
   "metadata": {}
  },
  {
   "cell_type": "code",
   "execution_count": 62,
   "source": [
    "#슬라이드 종류(0번~)\r\n",
    "prs = Presentation()\r\n",
    "slide_layout = prs.slide_layouts[1] #제목 및 내용 슬라이드\r\n",
    "slide = prs.slides.add_slide(slide_layout)\r\n",
    "prs.save('sample_2_ppt.pptx')"
   ],
   "outputs": [],
   "metadata": {}
  },
  {
   "cell_type": "markdown",
   "source": [
    "# 슬라이드에 내용 입력"
   ],
   "metadata": {}
  },
  {
   "cell_type": "code",
   "execution_count": 59,
   "source": [
    "prs = Presentation() \r\n",
    " \r\n",
    "slide_layout = prs.slide_layouts[0] #[0]번은 제목 슬라이드\r\n",
    "slide = prs.slides.add_slide(slide_layout)\r\n",
    " \r\n",
    "title = slide.shapes.title #제목\r\n",
    "sub_title = slide.placeholders[1] #부제목에 텍스트 입력\r\n",
    " \r\n",
    "title.text = '안녕하세요?'\r\n",
    "sub_title.text = '파이썬 파워포인트입니다.'\r\n",
    " \r\n",
    "prs.save('sample_3_ppt.pptx')"
   ],
   "outputs": [],
   "metadata": {}
  }
 ],
 "metadata": {
  "interpreter": {
   "hash": "da904fef6d3d21f571a32684c442a3d5f06136ad3962737ad0e04aa9c05f1d9b"
  },
  "kernelspec": {
   "name": "python3",
   "display_name": "Python 3.9.7 64-bit"
  },
  "language_info": {
   "codemirror_mode": {
    "name": "ipython",
    "version": 3
   },
   "file_extension": ".py",
   "mimetype": "text/x-python",
   "name": "python",
   "nbconvert_exporter": "python",
   "pygments_lexer": "ipython3",
   "version": "3.9.7"
  },
  "orig_nbformat": 4
 },
 "nbformat": 4,
 "nbformat_minor": 2
}