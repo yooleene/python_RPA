{
 "cells": [
  {
   "cell_type": "markdown",
   "source": [
    "# 폰트 설정"
   ],
   "metadata": {}
  },
  {
   "cell_type": "code",
   "execution_count": 13,
   "source": [
    "from pptx import Presentation\r\n",
    "from pptx.util import Inches, Pt #Pt는 글자의 크기 지정 시 사용\r\n",
    "from pptx.dml.color import RGBColor\r\n",
    " \r\n",
    "prs = Presentation()\r\n",
    " \r\n",
    "slide_layout = prs.slide_layouts[6] #빈 슬라이드\r\n",
    "slide = prs.slides.add_slide(slide_layout)\r\n",
    " \r\n",
    "#텍스트 박스의 여백, 크기 설정\r\n",
    "left = top = Inches(1.5)\r\n",
    "width = Inches(6)\r\n",
    "height = Inches(4)\r\n",
    "txBox = slide.shapes.add_textbox(left, top, width, height)\r\n",
    "tf = txBox.text_frame\r\n",
    "\r\n",
    "#박스 안의 글자 크기, 폰트, 색 설정\r\n",
    "p = tf.add_paragraph()\r\n",
    "p.text = '안녕하세요? \\n43포인트 글씨입니다.'\r\n",
    "p.font.size = Pt(43)\r\n",
    "p.font.name = '나눔스퀘어 Bold'\r\n",
    "p.font.color.rgb = RGBColor(0xFF, 0x99, 0xFF)\r\n",
    "\r\n",
    "p = tf.add_paragraph()\r\n",
    "p.text = '이것은 20포인트 글씨입니다.'\r\n",
    "p.font.size = Pt(20)\r\n",
    "p.font.name = '맑은 고딕'\r\n",
    "p.font.color.rgb = RGBColor(0x00, 0x00, 0xCC)\r\n",
    "p.font.bold = True\r\n",
    "\r\n",
    "prs.save('sample_5_ppt.pptx')\r\n"
   ],
   "outputs": [],
   "metadata": {}
  }
 ],
 "metadata": {
  "interpreter": {
   "hash": "da904fef6d3d21f571a32684c442a3d5f06136ad3962737ad0e04aa9c05f1d9b"
  },
  "kernelspec": {
   "name": "python3",
   "display_name": "Python 3.9.7 64-bit"
  },
  "language_info": {
   "codemirror_mode": {
    "name": "ipython",
    "version": 3
   },
   "file_extension": ".py",
   "mimetype": "text/x-python",
   "name": "python",
   "nbconvert_exporter": "python",
   "pygments_lexer": "ipython3",
   "version": "3.9.7"
  },
  "orig_nbformat": 4
 },
 "nbformat": 4,
 "nbformat_minor": 2
}