{
 "cells": [
  {
   "cell_type": "markdown",
   "metadata": {},
   "source": [
    "# 1.EP 로그인 정보 입력(ID, PASS)"
   ]
  },
  {
   "cell_type": "code",
   "execution_count": null,
   "metadata": {},
   "outputs": [],
   "source": [
    "import pyautogui\n",
    "\n",
    "my_id = 'user_id'\n",
    "my_pw = pyautogui.password(title='EP_PASS', text='패스워드를 입력하세요', default='')"
   ]
  },
  {
   "cell_type": "markdown",
   "metadata": {},
   "source": [
    "# 2.EP 접속"
   ]
  },
  {
   "cell_type": "code",
   "execution_count": null,
   "metadata": {},
   "outputs": [],
   "source": [
    "from selenium import webdriver\n",
    "import clipboard\n",
    "\n",
    "#웹드라이버 설정 및 EP 열기\n",
    "driver = webdriver.Ie('IEDriverServer')\n",
    "driver.get('http://swp.posco.net')\n",
    "driver.maximize_window()\n",
    "\n",
    "#로그인\n",
    "driver.find_element_by_xpath('//*[@id=\"username\"]').send_keys(my_id)\n",
    "driver.find_element_by_xpath('//*[@id=\"password\"]').send_keys(my_pw)\n",
    "driver.find_element_by_xpath('//*[@id=\"loginsubmit\"]').click()\n",
    "driver.implicitly_wait(10) #드라이버가 로딩되는데 10초까지 대기, 빨리 로딩되면 다음 코드 진행\n",
    "\n",
    "# 로그인시 발생하는 예외 처리\n",
    "try:  # 기존 로그인 경고창이 열릴 경우 alert accept 처리\n",
    "    alert=driver.switch_to.alert\n",
    "    alert.accept()\n",
    "except:\n",
    "    print(\"기존 로그인 경고창 없음. 계속 진행.\")  # 경고창이 열리지 않을 경우\n"
   ]
  },
  {
   "cell_type": "markdown",
   "metadata": {},
   "source": [
    "# 3.메일 화면 열기"
   ]
  },
  {
   "cell_type": "code",
   "execution_count": null,
   "metadata": {},
   "outputs": [],
   "source": [
    "pyautogui.sleep(15) #로그인 되는 시간을 충분히 줌\n",
    "\n",
    "#메일 화면 이동 - 활성화 된 창 중에서 현재창이 맞는지 확인하여 클릭\n",
    "for i in range(-1, len(driver.window_handles)):\n",
    "      success_check = False\n",
    "      driver.switch_to.window(driver.window_handles[i])\n",
    "      this_page_title = driver.title\n",
    "      if \"EP(Enterprise Portal)\" in this_page_title:\n",
    "            for j in range(3):\n",
    "                  try:\n",
    "                        print('EP 메일 아이콘 클릭 시도중...')\n",
    "                        driver.find_element_by_xpath('//*[@id=\"525026\"]').click()\n",
    "                  except:\n",
    "                        print('EP 메일 아이콘 클릭 예외발생... 재시도중')\n",
    "                  else:\n",
    "                        print('EP 메일 아이콘 클릭 완료')\n",
    "                        success_check = True\n",
    "                        break\n",
    "            break\n",
    "\n",
    "if success_check is False:\n",
    "      print('진행 중 오류가 발생하였습니다. 재시도해 주십시오.')\n",
    "      sys.exit()"
   ]
  },
  {
   "cell_type": "markdown",
   "metadata": {},
   "source": [
    "# 4.메일 쓰기 화면 열기"
   ]
  },
  {
   "cell_type": "code",
   "execution_count": null,
   "metadata": {},
   "outputs": [],
   "source": [
    "pyautogui.sleep(3)\n",
    "\n",
    "#메일 쓰기 화면 - 활성화 된 창 중에서 현재창이 맞는지 확인하여 클릭\n",
    "for i in range(-1, len(driver.window_handles)):\n",
    "      success_check = False\n",
    "      driver.switch_to.window(driver.window_handles[i])\n",
    "      this_page_title = driver.title\n",
    "      if \"Mail\" in this_page_title:\n",
    "            for j in range(3):\n",
    "                  try:\n",
    "                        print('메일쓰기창 오픈 클릭 시도중...')\n",
    "                        driver.find_element_by_xpath(\"//*[@id='Lnb']/div[1]/a\").click()\n",
    "                  except:\n",
    "                        print('메일쓰기 클릭 예외발생... 재시도중')\n",
    "                  else:\n",
    "                        print('메일쓰기 클릭 완료')\n",
    "                        success_check = True\n",
    "                        break\n",
    "            break\n",
    "\n",
    "if success_check is False:\n",
    "      print('진행 중 오류가 발생하였습니다. 재시도해 주십시오.')\n",
    "      sys.exit()\n"
   ]
  },
  {
   "cell_type": "markdown",
   "metadata": {},
   "source": [
    "# 5.메일 본문 쓰기"
   ]
  },
  {
   "cell_type": "code",
   "execution_count": null,
   "metadata": {},
   "outputs": [],
   "source": [
    "#메일 정보, 본문 입력\n",
    "import clipboard\n",
    "\n",
    "mail_add = 'user_mail_add'\n",
    "mail_sub = '학습 성취도 분석'\n",
    "mail_con = '학습 성취도 분석 내용을 보내 드립니다.'\n",
    "\n",
    "#메일 쓰기 - 활성화 된 창 중에서 현재창이 맞는지 확인하여 내용 기록\n",
    "for i in range(-1, len(driver.window_handles)):\n",
    "      driver.switch_to.window(driver.window_handles[i])\n",
    "      this_page_title = driver.title\n",
    "      if \"메일쓰기\" in this_page_title:\n",
    "            for j in range(3):\n",
    "                  try:\n",
    "                        print('메일쓰기 시도중...')\n",
    "                        driver.find_element_by_xpath('//*[@id=\"token-input-send_to\"] ').send_keys(mail_add)\n",
    "                        pyautogui.press('enter')\n",
    "                        driver.find_element_by_xpath('//*[@id=\"write_send_info\"]/table[2]/tbody/tr[1]/td/input').send_keys(mail_sub)\n",
    "\n",
    "                        clipboard.copy(mail_con)\n",
    "                        pyautogui.sleep(1)\n",
    "                        pyautogui.press('tab') #본문 내용으로 이동\n",
    "                        pyautogui.sleep(0.5)\n",
    "                        pyautogui.hotkey('ctrl','v')\n",
    "                  except:\n",
    "                        print('메일쓰기 예외발생... 재시도중')\n",
    "                  else:\n",
    "                        print('메일쓰기 완료')\n",
    "                        success_check = True\n",
    "                        break\n",
    "            break\n",
    "\n",
    "if success_check is False:\n",
    "      print('진행 중 오류가 발생하였습니다. 재시도해 주십시오.')\n",
    "      sys.exit()"
   ]
  },
  {
   "cell_type": "markdown",
   "metadata": {},
   "source": [
    "# 6.ECM 파일 첨부, 보내기"
   ]
  },
  {
   "cell_type": "code",
   "execution_count": null,
   "metadata": {},
   "outputs": [],
   "source": [
    "#첨부 파일 추가\n",
    "pyautogui.sleep(1)\n",
    "\n",
    "file_name = 'wb_data'  # 파일명을 변수에 저장\n",
    "\n",
    "for i in range(-1, len(driver.window_handles)):\n",
    "      driver.switch_to.window(driver.window_handles[i])\n",
    "      this_page_title = driver.title\n",
    "      if \"메일쓰기\" in this_page_title:\n",
    "            for i in range(3):\n",
    "                  try:\n",
    "                        print('첨부 시도중...')\n",
    "                        pyautogui.sleep(1)\n",
    "                        btn_att = pyautogui.locateCenterOnScreen('btn_att.png') #크롬과 IE의 엘리먼트가 다르게 나타남->이미지로 검색\n",
    "                        pyautogui.click(btn_att) #추가 버튼 클릭\n",
    "                        pyautogui.sleep(1)\n",
    "                        pyautogui.press('tab') #문서관리시스템 선택(시스템 상황에 맞게 변경)\n",
    "                        pyautogui.sleep(1)\n",
    "                        pyautogui.press('enter') #선택 확인\n",
    "                        pyautogui.sleep(1)\n",
    "                        pyautogui.press('tab', presses=4, interval=0.5) #탭키 4번-검색란으로 이동\n",
    "                        pyautogui.sleep(1)\n",
    "                        clipboard.copy(file_name)  #클립보드에 변수명 저장\n",
    "                        pyautogui.hotkey('ctrl', 'v')   #파일명 붙여넣기 \n",
    "                        pyautogui.press('enter')  #열기\n",
    "                        pyautogui.sleep(1)\n",
    "                        pyautogui.press('tab', presses=22, interval=0.5) #탭키 22번-검색된 파일로 이동\n",
    "                        pyautogui.sleep(1)\n",
    "                        pyautogui.press('space')\n",
    "                        pyautogui.sleep(2)\n",
    "                        ecm_btn_att = pyautogui.locateCenterOnScreen('ecm_btn_att.png', confidence=0.8)\n",
    "                        pyautogui.click(ecm_btn_att) #첨부 버튼 클릭\n",
    "                  except:\n",
    "                        print('첨부 예외발생... 재시도중')\n",
    "                  else:\n",
    "                        print('첨부 완료')\n",
    "                        success_check = True\n",
    "                        break\n",
    "            break\n",
    "\n",
    "if success_check is False:\n",
    "      print('진행 중 오류가 발생하였습니다. 재시도해 주십시오.')\n",
    "      sys.exit() \n",
    "\n",
    "#보내기\n",
    "pyautogui.sleep(2)\n",
    "\n",
    "btn_send = pyautogui.locateCenterOnScreen('btn_send.png', confidence=0.8) #보내기 버튼 찾기\n",
    "\n",
    "pyautogui.click(btn_send) #보내기 버튼 클릭\n",
    "\n",
    "pyautogui.sleep(2)\n",
    "pyautogui.press('enter') #메일 발송 확인창 확인 버튼 클릭  \n",
    "\n",
    "pyautogui.sleep(2)\n",
    "pyautogui.hotkey('alt', 'f4') #메일 창 닫기"
   ]
  }
 ],
 "metadata": {
  "interpreter": {
   "hash": "da904fef6d3d21f571a32684c442a3d5f06136ad3962737ad0e04aa9c05f1d9b"
  },
  "kernelspec": {
   "display_name": "Python 3.9.7 64-bit",
   "name": "python3"
  },
  "language_info": {
   "codemirror_mode": {
    "name": "ipython",
    "version": 3
   },
   "file_extension": ".py",
   "mimetype": "text/x-python",
   "name": "python",
   "nbconvert_exporter": "python",
   "pygments_lexer": "ipython3",
   "version": "3.8.10"
  },
  "orig_nbformat": 4
 },
 "nbformat": 4,
 "nbformat_minor": 2
}
