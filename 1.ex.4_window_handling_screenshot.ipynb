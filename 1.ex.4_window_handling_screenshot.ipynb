{
 "cells": [
  {
   "cell_type": "markdown",
   "metadata": {},
   "source": [
    "# 라이브러리 불러오기"
   ]
  },
  {
   "cell_type": "code",
   "execution_count": null,
   "metadata": {},
   "outputs": [],
   "source": [
    "import pyautogui"
   ]
  },
  {
   "cell_type": "markdown",
   "metadata": {},
   "source": [
    "# 스크린샷의 캡처"
   ]
  },
  {
   "cell_type": "code",
   "execution_count": null,
   "metadata": {},
   "outputs": [],
   "source": [
    "image01 = pyautogui.screenshot  #스크린 전체 화면을 이미지 객체로 전환\n",
    "\n",
    "#스크린샷을 이미지 저장할 때는 pillow 라이브러리가 설치되어 있어야 함(아나콘다에는 자동 살치되어 있음)\n",
    "pyautogui.screenshot('image02.png')  #스크린 전체 화면을 image02.png 현재 폴더에 파일로 저장, 전체 경로 지정 가능\n",
    "pyautogui.screenshot('image02.png', region=(0, 0, 500, 600))\n",
    "#특정영역 지정 : region 설정(x좌표 상단 좌측, y좌표 상단 좌측, x좌표 하단 우측, y좌표 하단 우측)"
   ]
  },
  {
   "cell_type": "markdown",
   "metadata": {},
   "source": [
    "# 이미지를 찾아 좌표 반환"
   ]
  },
  {
   "cell_type": "code",
   "execution_count": null,
   "metadata": {},
   "outputs": [],
   "source": [
    "pyautogui.locateOnScreen('btn_win.png') #btn_win.png 이미지를 찾아 좌표를 반환 "
   ]
  },
  {
   "cell_type": "code",
   "execution_count": null,
   "metadata": {},
   "outputs": [],
   "source": [
    "pyautogui.locateCenterOnScreen('btn_win.png') #btn_win.png 이미지를 찾아 정중앙의 좌표를 반환 "
   ]
  },
  {
   "cell_type": "code",
   "execution_count": null,
   "metadata": {},
   "outputs": [],
   "source": [
    "pyautogui.locateCenterOnScreen('btn_win.png', region=(0,1000, 200,1080)) #특정 범위에서 이미지를 검색(속도와 정확도를 올림)"
   ]
  },
  {
   "cell_type": "markdown",
   "metadata": {},
   "source": [
    "# 이미지를 찾아 반환된 좌표를 클릭"
   ]
  },
  {
   "cell_type": "code",
   "execution_count": null,
   "metadata": {},
   "outputs": [],
   "source": [
    "btn_win = pyautogui.locateCenterOnScreen('btn_win.png', region=(0,1000, 200,1080))\n",
    "pyautogui.click(btn_win)"
   ]
  }
 ],
 "metadata": {
  "interpreter": {
   "hash": "da904fef6d3d21f571a32684c442a3d5f06136ad3962737ad0e04aa9c05f1d9b"
  },
  "kernelspec": {
   "display_name": "Python 3.9.7 64-bit",
   "name": "python3"
  },
  "language_info": {
   "codemirror_mode": {
    "name": "ipython",
    "version": 3
   },
   "file_extension": ".py",
   "mimetype": "text/x-python",
   "name": "python",
   "nbconvert_exporter": "python",
   "pygments_lexer": "ipython3",
   "version": "3.9.7"
  },
  "orig_nbformat": 4
 },
 "nbformat": 4,
 "nbformat_minor": 2
}
