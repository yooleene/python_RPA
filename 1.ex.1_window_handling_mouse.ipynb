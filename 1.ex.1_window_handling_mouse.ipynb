{
 "cells": [
  {
   "cell_type": "markdown",
   "source": [
    "# 라이브러리 불러오기"
   ],
   "metadata": {}
  },
  {
   "cell_type": "code",
   "execution_count": 1,
   "source": [
    "import pyautogui"
   ],
   "outputs": [],
   "metadata": {}
  },
  {
   "cell_type": "markdown",
   "source": [
    "# 화면의 사이즈 알아보기"
   ],
   "metadata": {}
  },
  {
   "cell_type": "code",
   "execution_count": null,
   "source": [
    "pyautogui.size() #주 모니터의 해상도에 따른 넓이와 높이 반환"
   ],
   "outputs": [],
   "metadata": {}
  },
  {
   "cell_type": "markdown",
   "source": [
    "# 마우스의 현재 위치 알아보기"
   ],
   "metadata": {}
  },
  {
   "cell_type": "code",
   "execution_count": null,
   "source": [
    "pyautogui.sleep(3) #3초간 대기하는 시간에 마우스를 원하는 위치로 이동\r\n",
    "pyautogui.position() #현재 마우스의 x축과 y축의 좌표 반환"
   ],
   "outputs": [],
   "metadata": {}
  },
  {
   "cell_type": "markdown",
   "source": [
    "# 마우스 커서 이동하기"
   ],
   "metadata": {}
  },
  {
   "cell_type": "code",
   "execution_count": 7,
   "source": [
    "pyautogui.moveTo(1000, 500, duration=2) #2초 동안에 1000, 500 좌표로 마우스를 이동"
   ],
   "outputs": [],
   "metadata": {}
  },
  {
   "cell_type": "code",
   "execution_count": 8,
   "source": [
    "pyautogui.move(200, 300, duration=2) #현재 마우스의 위치에서 x축으로 200, y축으로 300 이동"
   ],
   "outputs": [],
   "metadata": {}
  },
  {
   "cell_type": "markdown",
   "source": [
    "# 마우스 드래그 하기"
   ],
   "metadata": {}
  },
  {
   "cell_type": "code",
   "execution_count": 11,
   "source": [
    "pyautogui.sleep(3) #화면 작게하여 동시에 메모장 띄워놓고 활용\r\n",
    "pyautogui.dragTo(600, 300, 2) #2초 동안에 600, 300 좌표로 마우스 좌측 버튼을 누른 후 드래그"
   ],
   "outputs": [],
   "metadata": {}
  },
  {
   "cell_type": "code",
   "execution_count": null,
   "source": [
    "pyautogui.sleep(3)\r\n",
    "pyautogui.dragTo(500, 500, 2, button='left') #2초 동안에 500, 500 좌표로 마우스 좌측 버튼을 누른 후 드래그"
   ],
   "outputs": [],
   "metadata": {}
  },
  {
   "cell_type": "code",
   "execution_count": null,
   "source": [
    "pyautogui.sleep(3)\r\n",
    "pyautogui.drag(200, -200, 2)"
   ],
   "outputs": [],
   "metadata": {}
  },
  {
   "cell_type": "code",
   "execution_count": null,
   "source": [
    "pyautogui.sleep(3)\r\n",
    "pyautogui.drag(100, 0, 2, button='left') #현재 위치에서 우측(x좌표만)으로 100, 2초동안 드래그"
   ],
   "outputs": [],
   "metadata": {}
  },
  {
   "cell_type": "markdown",
   "source": [
    "# 마우스로 클릭하기"
   ],
   "metadata": {}
  },
  {
   "cell_type": "code",
   "execution_count": 3,
   "source": [
    "pyautogui.sleep(3) #원하는 위치로 이동\r\n",
    "pyautogui.click() #현재 위치에서 마우스 좌측 버튼 클릭"
   ],
   "outputs": [],
   "metadata": {}
  },
  {
   "cell_type": "code",
   "execution_count": 4,
   "source": [
    "pyautogui.sleep(3)\r\n",
    "pyautogui.click(x=200, y=300) #200, 300 좌표에서 좌측 버튼 클릭"
   ],
   "outputs": [],
   "metadata": {}
  },
  {
   "cell_type": "code",
   "execution_count": 5,
   "source": [
    "pyautogui.sleep(3)\r\n",
    "pyautogui.click(x=200, y=300, button='right') #200, 300 좌표에서 우측 버튼 클릭"
   ],
   "outputs": [],
   "metadata": {}
  },
  {
   "cell_type": "code",
   "execution_count": null,
   "source": [
    "pyautogui.sleep(3)\r\n",
    "pyautogui.rightClick(x=200, y=300) #200, 300 좌표에서 우측 버튼 클릭"
   ],
   "outputs": [],
   "metadata": {}
  },
  {
   "cell_type": "code",
   "execution_count": null,
   "source": [
    "pyautogui.sleep(3)\r\n",
    "pyautogui.doubleClick() #현재 위치에서 마우스 좌측 버튼 더블클릭"
   ],
   "outputs": [],
   "metadata": {}
  },
  {
   "cell_type": "code",
   "execution_count": 6,
   "source": [
    "pyautogui.sleep(3)\r\n",
    "pyautogui.doubleClick(x=200, y=300) #200, 300 좌표에서 좌측 버튼 더블클릭"
   ],
   "outputs": [],
   "metadata": {}
  },
  {
   "cell_type": "markdown",
   "source": [
    "# 스크롤 하기"
   ],
   "metadata": {}
  },
  {
   "cell_type": "code",
   "execution_count": 3,
   "source": [
    "pyautogui.scroll(-1200) #아래로 1200번 스크롤"
   ],
   "outputs": [],
   "metadata": {}
  },
  {
   "cell_type": "code",
   "execution_count": 4,
   "source": [
    "pyautogui.scroll(1200) #위로 1200번 스크롤"
   ],
   "outputs": [],
   "metadata": {}
  }
 ],
 "metadata": {
  "interpreter": {
   "hash": "da904fef6d3d21f571a32684c442a3d5f06136ad3962737ad0e04aa9c05f1d9b"
  },
  "kernelspec": {
   "name": "python3",
   "display_name": "Python 3.9.7 64-bit"
  },
  "language_info": {
   "codemirror_mode": {
    "name": "ipython",
    "version": 3
   },
   "file_extension": ".py",
   "mimetype": "text/x-python",
   "name": "python",
   "nbconvert_exporter": "python",
   "pygments_lexer": "ipython3",
   "version": "3.9.7"
  },
  "orig_nbformat": 4
 },
 "nbformat": 4,
 "nbformat_minor": 2
}