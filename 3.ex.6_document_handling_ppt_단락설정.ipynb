{
 "cells": [
  {
   "cell_type": "markdown",
   "source": [
    "# 단락설정"
   ],
   "metadata": {}
  },
  {
   "cell_type": "code",
   "execution_count": 1,
   "source": [
    "from pptx import Presentation\r\n",
    "\r\n",
    "prs = Presentation()\r\n",
    "slide_layout = prs.slide_layouts[1] #제목 슬라이드\r\n",
    "\r\n",
    "slide = prs.slides.add_slide(slide_layout)\r\n",
    "shapes = slide.shapes\r\n",
    "\r\n",
    "title_shape = shapes.title\r\n",
    "body_shape = shapes.placeholders[1]\r\n",
    "\r\n",
    "title_shape.text = '제목입니다'\r\n",
    "\r\n",
    "tf = body_shape.text_frame\r\n",
    "tf.text = '첫번째 단락입니다'\r\n",
    "\r\n",
    "p = tf.add_paragraph()\r\n",
    "p.text = '두번째 단락입니다'\r\n",
    "p.level = 1\r\n",
    "\r\n",
    "p = tf.add_paragraph()\r\n",
    "p.text = '세번째 단락입니다.'\r\n",
    "p.level = 2\r\n",
    "\r\n",
    "prs.save('sample_4_ppt.pptx')"
   ],
   "outputs": [],
   "metadata": {}
  }
 ],
 "metadata": {
  "interpreter": {
   "hash": "da904fef6d3d21f571a32684c442a3d5f06136ad3962737ad0e04aa9c05f1d9b"
  },
  "kernelspec": {
   "name": "python3",
   "display_name": "Python 3.9.7 64-bit"
  },
  "language_info": {
   "codemirror_mode": {
    "name": "ipython",
    "version": 3
   },
   "file_extension": ".py",
   "mimetype": "text/x-python",
   "name": "python",
   "nbconvert_exporter": "python",
   "pygments_lexer": "ipython3",
   "version": "3.9.7"
  },
  "orig_nbformat": 4
 },
 "nbformat": 4,
 "nbformat_minor": 2
}