{
 "cells": [
  {
   "cell_type": "markdown",
   "metadata": {},
   "source": [
    "#### 그림판에 자동으로 그림 그리기"
   ]
  },
  {
   "cell_type": "markdown",
   "metadata": {},
   "source": [
    "- 사각형 그리기"
   ]
  },
  {
   "cell_type": "code",
   "execution_count": 5,
   "metadata": {},
   "outputs": [],
   "source": [
    "import pyautogui as pg"
   ]
  },
  {
   "cell_type": "markdown",
   "metadata": {},
   "source": [
    "- dfgdfh"
   ]
  },
  {
   "cell_type": "code",
   "execution_count": 16,
   "metadata": {},
   "outputs": [
    {
     "data": {
      "text/plain": [
       "Point(x=596, y=406)"
      ]
     },
     "execution_count": 16,
     "metadata": {},
     "output_type": "execute_result"
    }
   ],
   "source": [
    "pg.sleep(3)\n",
    "pg.position() #ghgfhgf"
   ]
  },
  {
   "cell_type": "code",
   "execution_count": 13,
   "metadata": {},
   "outputs": [],
   "source": [
    "# pg.moveTo(x=353, y=359)\n",
    "pg.moveTo(353, 359, duration=1)\n",
    "pg.click()\n",
    "pg.drag(100, 0, duration=0.5)"
   ]
  },
  {
   "cell_type": "code",
   "execution_count": 8,
   "metadata": {},
   "outputs": [
    {
     "data": {
      "text/plain": [
       "Size(width=1920, height=1080)"
      ]
     },
     "execution_count": 8,
     "metadata": {},
     "output_type": "execute_result"
    }
   ],
   "source": [
    "pg.size()"
   ]
  },
  {
   "cell_type": "code",
   "execution_count": 14,
   "metadata": {},
   "outputs": [],
   "source": [
    "# pg.moveTo(353, 359, duration=1)\n",
    "pg.click(353, 359)\n",
    "pg.drag(100, 0, duration=0.5)\n",
    "pg.drag(0, 100, duration=0.5)\n",
    "pg.drag(-100, 0, duration=0.5)\n",
    "pg.drag(0, -100, duration=0.5)"
   ]
  },
  {
   "cell_type": "markdown",
   "metadata": {},
   "source": [
    "- 중심으로 들어가는 사각형 그리기"
   ]
  },
  {
   "cell_type": "code",
   "execution_count": 17,
   "metadata": {},
   "outputs": [],
   "source": [
    "import pyautogui as pg\n",
    "\n",
    "pg.sleep(0.5)\n",
    "\n",
    "pg.hotkey('win', 'r')\n",
    "pg.sleep(0.5)\n",
    "pg.write('mspaint')\n",
    "pg.press('enter')\n",
    "\n",
    "pg.sleep(3)\n",
    "pg.hotkey('win','up')\n",
    "pg.sleep(0.5)\n",
    "\n",
    "pg.moveTo(600,400,2)\n",
    "\n",
    "distance = 200\n",
    "while distance > 0:\n",
    "    pg.drag(distance, 0, duration=0.5)\n",
    "    pg.drag(0, distance, duration=0.5)\n",
    "    distance -= 10\n",
    "    pg.drag(-distance, 0, duration=0.5)\n",
    "    pg.drag(0, -distance, duration=0.5)\n",
    "    distance -= 10"
   ]
  },
  {
   "cell_type": "code",
   "execution_count": null,
   "metadata": {},
   "outputs": [],
   "source": []
  }
 ],
 "metadata": {
  "kernelspec": {
   "display_name": "Python 3.9.10 64-bit",
   "language": "python",
   "name": "python3"
  },
  "language_info": {
   "codemirror_mode": {
    "name": "ipython",
    "version": 3
   },
   "file_extension": ".py",
   "mimetype": "text/x-python",
   "name": "python",
   "nbconvert_exporter": "python",
   "pygments_lexer": "ipython3",
   "version": "3.9.10"
  },
  "vscode": {
   "interpreter": {
    "hash": "3362ba69c298d43e54117cb0f817f69ba2f0e48ebf54893c6ebb0b6b9c6b941d"
   }
  }
 },
 "nbformat": 4,
 "nbformat_minor": 2
}
