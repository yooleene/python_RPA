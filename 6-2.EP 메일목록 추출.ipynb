{
 "cells": [
  {
   "cell_type": "markdown",
   "metadata": {},
   "source": [
    "#### EP 로그인 정보 입력(ID, PASS)"
   ]
  },
  {
   "cell_type": "code",
   "execution_count": null,
   "metadata": {},
   "outputs": [],
   "source": [
    "import pyautogui as pg\n",
    "\n",
    "my_id = 'yooleenes'\n",
    "my_pw = pg.password(title='EP PASS', text='패스워드를 입력하세요')"
   ]
  },
  {
   "cell_type": "markdown",
   "metadata": {},
   "source": [
    "#### EP 접속"
   ]
  },
  {
   "cell_type": "code",
   "execution_count": null,
   "metadata": {},
   "outputs": [],
   "source": [
    "url = 'http://swpsso.posco.net/idms/U61/jsp/login/login.jsp'\n",
    "\n",
    "from selenium import webdriver\n",
    "from selenium.webdriver.common.by import By\n",
    "from selenium.webdriver.common.keys import Keys\n",
    "import clipboard as cb\n",
    "\n",
    "driver = webdriver.Edge('msedgedriver')\n",
    "driver.get(url)\n",
    "# driver.maximize_window()\n",
    "\n",
    "driver.find_element(By.XPATH,'//*[@id=\"username\"]').send_keys(my_id)\n",
    "driver.find_element(By.XPATH,'//*[@id=\"password\"]').send_keys(my_pw)\n",
    "driver.find_element(By.XPATH,'//*[@id=\"loginsubmit\"]').click()\n",
    "\n",
    "pg.sleep(5)\n",
    "try:\n",
    "    alert = driver.switch_to.alert\n",
    "    alert.accept()\n",
    "except: print('기존 로그인 창 없음')"
   ]
  },
  {
   "cell_type": "markdown",
   "metadata": {},
   "source": [
    "##### SSO Notice 창 닫기"
   ]
  },
  {
   "cell_type": "code",
   "execution_count": null,
   "metadata": {},
   "outputs": [],
   "source": [
    "pg.sleep(3)\n",
    "\n",
    "try:\n",
    "    for i in reversed(range(len(driver.window_handles))):\n",
    "        driver.switch_to.window(driver.window_handles[i])\n",
    "        if driver.title != 'EP(Enterprise Portal)':\n",
    "            driver.close()\n",
    "except: print('팝업창 없음')"
   ]
  },
  {
   "cell_type": "markdown",
   "metadata": {},
   "source": [
    "##### 메일 화면 열기"
   ]
  },
  {
   "cell_type": "code",
   "execution_count": null,
   "metadata": {},
   "outputs": [],
   "source": [
    "pg.sleep(2)\n",
    "driver.switch_to.window(driver.window_handles[-1])\n",
    "driver.find_element(By.XPATH, '//*[@id=\"533982\"]/a[1]/span[1]/img').click()"
   ]
  },
  {
   "cell_type": "markdown",
   "metadata": {},
   "source": [
    "##### 메일 목록 가져오기"
   ]
  },
  {
   "cell_type": "code",
   "execution_count": null,
   "metadata": {},
   "outputs": [],
   "source": [
    "from bs4 import BeautifulSoup as bs4\n",
    "\n",
    "pg.sleep(3)\n",
    "\n",
    "driver.switch_to.window(driver.window_handles[-1])\n",
    "\n",
    "soup = bs4(driver.page_source, 'html.parser')"
   ]
  },
  {
   "cell_type": "code",
   "execution_count": null,
   "metadata": {},
   "outputs": [],
   "source": [
    "table = soup.select('#dis')"
   ]
  },
  {
   "cell_type": "code",
   "execution_count": null,
   "metadata": {},
   "outputs": [],
   "source": [
    "table_html = str(table)"
   ]
  },
  {
   "cell_type": "code",
   "execution_count": null,
   "metadata": {},
   "outputs": [],
   "source": [
    "import pandas as pd\n",
    "\n",
    "df = pd.read_html(table_html)"
   ]
  },
  {
   "cell_type": "code",
   "execution_count": null,
   "metadata": {},
   "outputs": [],
   "source": [
    "df"
   ]
  },
  {
   "cell_type": "code",
   "execution_count": null,
   "metadata": {},
   "outputs": [],
   "source": [
    "df_01 = df[0]\n",
    "df_01"
   ]
  },
  {
   "cell_type": "code",
   "execution_count": null,
   "metadata": {},
   "outputs": [],
   "source": [
    "df_01.to_excel('mail.xlsx')"
   ]
  }
 ],
 "metadata": {
  "kernelspec": {
   "display_name": "Python 3.9.10 64-bit",
   "language": "python",
   "name": "python3"
  },
  "language_info": {
   "codemirror_mode": {
    "name": "ipython",
    "version": 3
   },
   "file_extension": ".py",
   "mimetype": "text/x-python",
   "name": "python",
   "nbconvert_exporter": "python",
   "pygments_lexer": "ipython3",
   "version": "3.9.10"
  },
  "orig_nbformat": 4,
  "vscode": {
   "interpreter": {
    "hash": "3362ba69c298d43e54117cb0f817f69ba2f0e48ebf54893c6ebb0b6b9c6b941d"
   }
  }
 },
 "nbformat": 4,
 "nbformat_minor": 2
}
