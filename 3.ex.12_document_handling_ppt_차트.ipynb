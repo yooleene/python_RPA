{
 "cells": [
  {
   "cell_type": "markdown",
   "source": [
    "# 차트 그리기"
   ],
   "metadata": {}
  },
  {
   "cell_type": "code",
   "execution_count": 8,
   "source": [
    "from pptx import Presentation\r\n",
    "from pptx.chart.data import CategoryChartData\r\n",
    "from pptx.enum.chart import XL_CHART_TYPE\r\n",
    "from pptx.util import Inches, Pt\r\n",
    "\r\n",
    "\r\n",
    "prs = Presentation()\r\n",
    "slide = prs.slides.add_slide(prs.slide_layouts[5])\r\n",
    "\r\n",
    "#데이터 입력\r\n",
    "chart_data = CategoryChartData()\r\n",
    "chart_data.categories = ['1분기', '2분기', '3분기']\r\n",
    "chart_data.add_series('분기별 매출액', (20.5, 25.5, 15.9))\r\n",
    "\r\n",
    "#차트 그리기\r\n",
    "x, y, cx, cy = Inches(2), Inches(2), Inches(6), Inches(5)\r\n",
    "slide.shapes.add_chart(\r\n",
    "      XL_CHART_TYPE.COLUMN_CLUSTERED, x, y, cx, cy, chart_data)\r\n",
    "\r\n",
    "prs.save('sample_10_ppt.pptx')"
   ],
   "outputs": [],
   "metadata": {}
  },
  {
   "cell_type": "markdown",
   "source": [
    "# 타이틀 입력"
   ],
   "metadata": {}
  },
  {
   "cell_type": "code",
   "execution_count": 2,
   "source": [
    "title = slide.shapes.title #제목\r\n",
    "title.text = '매출 현황'\r\n",
    "\r\n",
    "prs.save('sample_10_ppt.pptx')"
   ],
   "outputs": [],
   "metadata": {}
  },
  {
   "cell_type": "markdown",
   "source": [
    "# 데이터 레이블 입력"
   ],
   "metadata": {}
  },
  {
   "cell_type": "code",
   "execution_count": 3,
   "source": [
    "from pptx.dml.color import RGBColor\r\n",
    "from pptx.enum.chart import XL_LABEL_POSITION\r\n",
    "\r\n",
    "graphic_frame = slide.shapes.add_chart(\r\n",
    "    XL_CHART_TYPE.COLUMN_CLUSTERED, x, y, cx, cy, chart_data)\r\n",
    "chart = graphic_frame.chart\r\n",
    "plot = chart.plots[0]\r\n",
    "plot.has_data_labels = True\r\n",
    "data_labels = plot.data_labels\r\n",
    "\r\n",
    "data_labels.font.size = Pt(13)\r\n",
    "data_labels.font.color.rgb = RGBColor(0x0A, 0x42, 0x80)\r\n",
    "data_labels.position = XL_LABEL_POSITION.INSIDE_END\r\n",
    "\r\n",
    "prs.save('sample_10_ppt.pptx')"
   ],
   "outputs": [],
   "metadata": {}
  }
 ],
 "metadata": {
  "interpreter": {
   "hash": "da904fef6d3d21f571a32684c442a3d5f06136ad3962737ad0e04aa9c05f1d9b"
  },
  "kernelspec": {
   "name": "python3",
   "display_name": "Python 3.9.7 64-bit"
  },
  "language_info": {
   "codemirror_mode": {
    "name": "ipython",
    "version": 3
   },
   "file_extension": ".py",
   "mimetype": "text/x-python",
   "name": "python",
   "nbconvert_exporter": "python",
   "pygments_lexer": "ipython3",
   "version": "3.9.7"
  },
  "orig_nbformat": 4
 },
 "nbformat": 4,
 "nbformat_minor": 2
}