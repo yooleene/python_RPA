{
 "cells": [
  {
   "cell_type": "markdown",
   "source": [
    "# 라이브러리 불러오기/객체 선언"
   ],
   "metadata": {}
  },
  {
   "cell_type": "code",
   "execution_count": null,
   "source": [
    "from pptx import Presentation\r\n",
    "from pptx.util import Inches\r\n",
    "\r\n",
    "prs = Presentation() # 파워포인트 객체 선언"
   ],
   "outputs": [],
   "metadata": {}
  },
  {
   "cell_type": "markdown",
   "source": [
    "# 보고서 표지 작성"
   ],
   "metadata": {}
  },
  {
   "cell_type": "code",
   "execution_count": null,
   "source": [
    "title_slide_layout = prs.slide_layouts[0] #제목 슬라이드\r\n",
    "slide = prs.slides.add_slide(title_slide_layout) #슬라이드를 파워포인트 객체에 추가\r\n",
    "\r\n",
    "#제목\r\n",
    "title = slide.shapes.title\r\n",
    "title.text = \"분기별 매출 분석\"\r\n",
    "\r\n",
    "#부제목\r\n",
    "subtitle = slide.placeholders[1]\r\n",
    "subtitle.text = \"작성자 : 유구봉\" \r\n",
    "\r\n",
    "prs.save('sample_report_ppt.pptx')"
   ],
   "outputs": [],
   "metadata": {}
  },
  {
   "cell_type": "markdown",
   "source": [
    "# 엑셀 데이터 표 작성"
   ],
   "metadata": {}
  },
  {
   "cell_type": "code",
   "execution_count": null,
   "source": [
    "#엑셀 데이터 불러오기\r\n",
    "import pandas as pd\r\n",
    "data_frame = pd.read_excel('sample_report_pptx.xlsx')"
   ],
   "outputs": [],
   "metadata": {}
  },
  {
   "cell_type": "code",
   "execution_count": null,
   "source": [
    "#표 만들기\r\n",
    "from pptx.util import Inches, Pt\r\n",
    "from pptx.dml.color import RGBColor\r\n",
    "from pptx.enum.text import PP_ALIGN\r\n",
    "\r\n",
    "title_slide_layout = prs.slide_layouts[5] #제목만 슬라이드\r\n",
    "slide = prs.slides.add_slide(title_slide_layout) #슬라이드를 파워포인트 객체에 추가\r\n",
    "\r\n",
    "shapes = slide.shapes\r\n",
    "shapes.title.text = '1.분기별 매출 데이터'\r\n",
    "\r\n",
    "rows = 2\r\n",
    "cols = 4\r\n",
    "left = Inches(1)\r\n",
    "top = Inches(2)\r\n",
    "width = Inches(3)\r\n",
    "height = Inches(1)\r\n",
    "\r\n",
    "table = shapes.add_table(rows, cols, left, top, width, height).table #add_table() 함수를 호출하여 표를 추가합니다. \r\n",
    "\r\n",
    "data_list = data_frame.values.tolist() #데이터 값을 리스트 형태로 전환\r\n",
    "\r\n",
    "#컬럼 크기\r\n",
    "j = 0\r\n",
    "\r\n",
    "for list in data_list[0]:\r\n",
    "      table.columns[j].width = Inches(2)\r\n",
    "      j+= 1\r\n",
    "\r\n",
    "# 표 헤드\r\n",
    "j = 0\r\n",
    "for column in data_frame:\r\n",
    "      table.cell(0, j).text = column\r\n",
    "      #서식\r\n",
    "      p = table.cell(0, j).text_frame.paragraphs[0]\r\n",
    "      p.font.bold = True\r\n",
    "      p.font.size = Pt(28)\r\n",
    "      p.font.name = '견고딕'\r\n",
    "      p.font.color.rgb = RGBColor(255, 255, 255)\r\n",
    "      p.alignment = PP_ALIGN.CENTER\r\n",
    "\r\n",
    "      j+= 1\r\n",
    "\r\n",
    "\r\n",
    "# 표 값\r\n",
    "j = 0\r\n",
    "for list in data_list[0]:\r\n",
    "      table.cell(1, j).text = str(format(list,',')) #천단위 콤마 형식, 표에는 string\r\n",
    "      #서식\r\n",
    "      p = table.cell(1, j).text_frame.paragraphs[0]\r\n",
    "      p.font.size = Pt(24)\r\n",
    "      p.alignment = PP_ALIGN.CENTER\r\n",
    "\r\n",
    "      j+= 1\r\n",
    "\r\n",
    "prs.save('sample_report_ppt.pptx')"
   ],
   "outputs": [],
   "metadata": {}
  },
  {
   "cell_type": "markdown",
   "source": [
    "# 분석차트 작성"
   ],
   "metadata": {}
  },
  {
   "cell_type": "code",
   "execution_count": null,
   "source": [
    "from pptx.chart.data import CategoryChartData\r\n",
    "from pptx.enum.chart import XL_CHART_TYPE\r\n",
    "from pptx.util import Inches, Pt\r\n",
    "from pptx.dml.color import RGBColor\r\n",
    "from pptx.enum.chart import XL_LABEL_POSITION\r\n",
    "\r\n",
    "slide = prs.slides.add_slide(prs.slide_layouts[5])\r\n",
    "\r\n",
    "#타이틀 입력\r\n",
    "title = slide.shapes.title #제목\r\n",
    "title.text = '2.분기별 매출 추세분석'\r\n",
    "\r\n",
    "#데이터 입력\r\n",
    "chart_data = CategoryChartData(number_format='#,##0')\r\n",
    "chart_data.categories = data_frame.columns\r\n",
    "chart_data.add_series('분기별 매출액', data_list[0])\r\n",
    "\r\n",
    "\r\n",
    "#차트 그리기\r\n",
    "x, y, cx, cy = Inches(2), Inches(2), Inches(6), Inches(5)\r\n",
    "\r\n",
    "chart_frame = slide.shapes.add_chart(\r\n",
    "    XL_CHART_TYPE.COLUMN_CLUSTERED, x, y, cx, cy, chart_data)\r\n",
    "chart = chart_frame.chart\r\n",
    "plot = chart.plots[0]\r\n",
    "plot.has_data_labels = True\r\n",
    "data_labels = plot.data_labels\r\n",
    "\r\n",
    "data_labels.font.size = Pt(13)\r\n",
    "data_labels.font.color.rgb = RGBColor(0x0A, 0x42, 0x80)\r\n",
    "data_labels.position = XL_LABEL_POSITION.INSIDE_END\r\n",
    "\r\n",
    "prs.save('sample_report_ppt.pptx')"
   ],
   "outputs": [],
   "metadata": {}
  }
 ],
 "metadata": {
  "interpreter": {
   "hash": "da904fef6d3d21f571a32684c442a3d5f06136ad3962737ad0e04aa9c05f1d9b"
  },
  "kernelspec": {
   "name": "python3",
   "display_name": "Python 3.9.7 64-bit"
  },
  "language_info": {
   "codemirror_mode": {
    "name": "ipython",
    "version": 3
   },
   "file_extension": ".py",
   "mimetype": "text/x-python",
   "name": "python",
   "nbconvert_exporter": "python",
   "pygments_lexer": "ipython3",
   "version": "3.9.7"
  },
  "orig_nbformat": 4
 },
 "nbformat": 4,
 "nbformat_minor": 2
}