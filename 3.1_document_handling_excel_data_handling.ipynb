{
 "cells": [
  {
   "cell_type": "markdown",
   "metadata": {},
   "source": [
    "# 데이터 분석(계산)"
   ]
  },
  {
   "cell_type": "code",
   "execution_count": 43,
   "metadata": {},
   "outputs": [],
   "source": [
    "import win32com.client\n",
    "import string\n",
    "import pyautogui\n",
    "\n",
    "excel = win32com.client.Dispatch('Excel.Application')\n",
    "excel.Visible = True\n",
    "\n",
    "file_name = r'C:\\Users\\poscouser\\python_RPA\\wb_data.xlsx'\n",
    "\n",
    "wb = excel.Workbooks.Open(file_name) #워크북 열기\n",
    "ws = wb.Activesheet#활성화 된 시트를 ws 변수에 저장\n",
    "\n",
    "\n",
    "pyautogui.sleep(3)\n",
    "\n",
    "ws.Range('A:A').Delete() #판다스에서 발생한 인덱스 열(A열) 삭제\n",
    "\n",
    "win = pyautogui.getWindowsWithTitle(\"wb\")[0] #wb 키워드가 있는 창을 활성화\n",
    "win.Activate() # 활성화(최상위로 가져오기)\n",
    "ws.Columns('A:O').HorizontalAlignment  = 3 #가운데 정렬\n",
    "pyautogui.sleep(3)\n",
    "#지정된 범위를 자동 열너비 조정(단축키 활용)\n",
    "ws.Columns('A:O').Select() #A:O열 선택\n",
    "#ws.Range('A:O').Select()\n",
    "pyautogui.hotkey('alt','h')\n",
    "pyautogui.sleep(1)\n",
    "pyautogui.press('o')\n",
    "pyautogui.sleep(1)\n",
    "pyautogui.press('i')\n",
    "\n",
    "\n",
    "#전체 행 카운트 하기\n",
    "i = 1\n",
    "cell_value = ws.Cells(1,1).Value #초기 값으로 A1셀 설정\n",
    "\n",
    "while(cell_value != None):\n",
    "      i+=1\n",
    "      cell_value = ws.Cells(i,1).Value\n",
    "max_row = i-1\n",
    "\n",
    "#평균 계산하기\n",
    "pyautogui.sleep(1)\n",
    "ws.Cells(max_row+1,1).Value = '평균'\n",
    "ws.Range(ws.Cells(max_row+1, 1), ws.Cells(max_row+1, 4)).Merge() #평균 제목 셀병합\n",
    "\n",
    "#아스키코드값을 활용한 함수 사용\n",
    "abc = string.ascii_lowercase\n",
    "for col in range(5,16):\n",
    "      ws.Cells(max_row+1,col).Formula = '=round(average({}2:{}{}),2)'.format(abc[col-1], abc[col-1], max_row)\n",
    "\n",
    "\n",
    "pyautogui.sleep(1)\n",
    "ws.Range('a1').Select()\n",
    "win = pyautogui.getWindowsWithTitle(\"wb\")[0] #wb 키워드가 있는 창을 활성화\n",
    "win.activate() # 활성화(최상위로 가져오기)\n",
    "\n",
    "#셀 테두리 설정(단축키 활용)\n",
    "pyautogui.hotkey('ctrl','a')\n",
    "pyautogui.sleep(1)\n",
    "pyautogui.hotkey('alt','h')\n",
    "pyautogui.sleep(1)\n",
    "pyautogui.press('b')\n",
    "pyautogui.sleep(1)\n",
    "pyautogui.press('a')\n",
    "ws.Range('a1').Select()\n",
    "\n",
    "wb.Save() #저장\n",
    "pyautogui.sleep(3)\n",
    "excel.Quit() #엑셀 닫기"
   ]
  }
 ],
 "metadata": {
  "interpreter": {
   "hash": "da904fef6d3d21f571a32684c442a3d5f06136ad3962737ad0e04aa9c05f1d9b"
  },
  "kernelspec": {
   "display_name": "Python 3.9.7 64-bit",
   "name": "python3"
  },
  "language_info": {
   "codemirror_mode": {
    "name": "ipython",
    "version": 3
   },
   "file_extension": ".py",
   "mimetype": "text/x-python",
   "name": "python",
   "nbconvert_exporter": "python",
   "pygments_lexer": "ipython3",
   "version": "3.8.10"
  },
  "orig_nbformat": 4
 },
 "nbformat": 4,
 "nbformat_minor": 2
}
