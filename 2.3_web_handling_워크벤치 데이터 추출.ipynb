{
 "cells": [
  {
   "cell_type": "markdown",
   "metadata": {},
   "source": [
    "# 1.로그인 정보 입력(ID, PASS)"
   ]
  },
  {
   "cell_type": "code",
   "execution_count": null,
   "metadata": {},
   "outputs": [],
   "source": [
    "import pyautogui\n",
    "\n",
    "my_id = 'user_id'\n",
    "my_pw = pyautogui.password(title='EP_PASS', text='패스워드를 입력하세요', default='')"
   ]
  },
  {
   "cell_type": "markdown",
   "metadata": {},
   "source": [
    "# 2.워크벤치 직접 접속"
   ]
  },
  {
   "cell_type": "code",
   "execution_count": null,
   "metadata": {},
   "outputs": [],
   "source": [
    "from selenium import webdriver\n",
    "import clipboard\n",
    "\n",
    "#웹드라이버 설정 및 워크벤치 열기\n",
    "driver = webdriver.Edge('msedgedriver')\n",
    "#워크벤치 접속 URL은 EP에서 접속하여 가져옴\n",
    "url = 'http://psmartfactory.posco.co.kr:8031/M00/M00S22/m00s221030.mvc?pageID=m00s221030_f001&NS_RKEY=m00s_rp221&NS_FKEY=m00s221030_f001&NS_MKEY=1000153844'\n",
    "driver.get(url)\n",
    "driver.maximize_window()\n",
    "\n",
    "#로그인\n",
    "driver.find_element_by_xpath('/html/body/table/tbody/tr/td/table/tbody/tr[2]/td[2]/form/table/tbody/tr[3]/td/input').send_keys(my_id)\n",
    "driver.find_element_by_xpath('/html/body/table/tbody/tr/td/table/tbody/tr[2]/td[2]/form/table/tbody/tr[4]/td/input').send_keys(my_pw)\n",
    "driver.find_element_by_xpath('/html/body/table/tbody/tr/td/table/tbody/tr[2]/td[2]/form/table/tbody/tr[2]/td[3]/a/img').click()\n",
    "driver.implicitly_wait(10) #드라이버가 로딩되는데 10초까지 대기, 빨리 로딩되면 다음 코드 진행\n",
    "\n",
    "pyautogui.sleep(5)\n",
    "try:  #notice 팝업창 처리\n",
    "      win = pyautogui.getWindowsWithTitle('NOTICE - 프로필 1')\n",
    "      win[0].close()\n",
    "except:\n",
    "    print(\"팝업창 없음. 계속 진행.\")  # 팝업창이 열리지 않을 경우"
   ]
  },
  {
   "cell_type": "markdown",
   "metadata": {},
   "source": [
    "# 3.분석 업무명 검색, 열기"
   ]
  },
  {
   "cell_type": "code",
   "execution_count": null,
   "metadata": {},
   "outputs": [],
   "source": [
    "#분석 파일 검색하기\n",
    "driver.find_element_by_xpath('/html/body/div/section/section/div[1]/div/table/tbody/tr/td[1]/div/div[1]/div/button[3]').click() #전체 버튼 클릭\n",
    "driver.find_element_by_xpath('//*[@id=\"search_name\"]').send_keys('RPA 교육 샘플') #검색어 입력\n",
    "driver.find_element_by_xpath('//*[@id=\"btn_workflow_search\"]').click() #조회 버튼 클릭\n",
    "\n",
    "#분석업무 클릭하기\n",
    "btn_title_search = pyautogui.locateCenterOnScreen('btn_title_search.PNG', confidence=0.8) #분석업무명을 이미지로  찾기 \n",
    "pyautogui.doubleClick(btn_title_search.x, btn_title_search.y+29) #반환 받은 위치 아래 부분 더블 클릭하여 파일 열기\n",
    "\n",
    "pyautogui.sleep(10) #실행 대기시간을 충분히 줌\n",
    "\n",
    "\n",
    "try:  #notice 팝업창 처리\n",
    "      win = pyautogui.getWindowsWithTitle('NOTICE - 프로필 1')\n",
    "      win[0].close()\n",
    "except:\n",
    "    print(\"팝업창 없음. 계속 진행.\")  # 팝업창이 열리지 않을 경우"
   ]
  },
  {
   "cell_type": "markdown",
   "metadata": {},
   "source": [
    "# 4.데이터 가져오기"
   ]
  },
  {
   "cell_type": "code",
   "execution_count": null,
   "metadata": {},
   "outputs": [],
   "source": [
    "pyautogui.sleep(3)\n",
    "btn_title_mart = pyautogui.locateCenterOnScreen('btn_title_mart.PNG', confidence=0.8, region=(200,244, 1638,809)) #마트에서 불러오기 찾기\n",
    "pyautogui.click(btn_title_mart) #마트에서 불러오기 클릭\n",
    "pyautogui.sleep(3)\n",
    "pyautogui.press('f4') #데이터 가져오기\n",
    "\n",
    "# 동일한 데이터셋 경고창 예외 처리\n",
    "pyautogui.sleep(5)\n",
    "try:  # 동일한 데이터셋 경고창이 열릴 경우 alert accept 처리\n",
    "    alert=driver.switch_to.alert\n",
    "    alert.accept()\n",
    "except:\n",
    "    print(\"동일한 데이터셋 경고창 없음. 계속 진행.\")  # 경고창이 열리지 않을 경우\n",
    "\n",
    "pyautogui.sleep(3)\n",
    "driver.switch_to_window(driver.window_handles[-1]) #최근 화면으로 전환(새창이 뜰 때)\n",
    "driver.find_element_by_xpath('// *[@id=\"btn_data_grid\"]').click() #데이터 그리드 버튼 클릭\n",
    "\n",
    "pyautogui.sleep(5)\n",
    "driver.switch_to_window(driver.window_handles[-1]) #최근 화면으로 전환(새창이 뜰 때)\n",
    "driver.find_element_by_xpath('//*[@id=\"btn_excel\"]').click() #엑셀 다운로드 버튼 클릭"
   ]
  },
  {
   "cell_type": "markdown",
   "metadata": {},
   "source": [
    "# 5.데이터 파일 변환(csv-->xlsx)"
   ]
  },
  {
   "cell_type": "code",
   "execution_count": null,
   "metadata": {},
   "outputs": [],
   "source": [
    "import pandas as pd #판다스 불러오기\n",
    "data = pd.read_csv(r'D:\\Downloads\\new_학업성취도.csv') #판다스로 csv 파일 읽기\n",
    "data.to_excel('wb_data.xlsx') #csv 파일을 엑셀로 저정"
   ]
  },
  {
   "cell_type": "markdown",
   "metadata": {},
   "source": [
    "# 6.엑셀 파일 보안 저장"
   ]
  },
  {
   "cell_type": "code",
   "execution_count": null,
   "metadata": {},
   "outputs": [],
   "source": [
    "pyautogui.hotkey('win','r') #프로그램 실행 단축키\n",
    "pyautogui.sleep(1)\n",
    "pyautogui.write(r'C:\\Users\\poscouser\\python_RPA\\wb_data.xlsx') #파일명 지정\n",
    "pyautogui.sleep(1)\n",
    "pyautogui.press('enter') #열기\n",
    "\n",
    "pyautogui.sleep(20) #엑셀파일 열리는 시간 대기\n",
    "\n",
    "pyautogui.hotkey('ctrl','s') #저장\n",
    "pyautogui.sleep(1)\n",
    "pyautogui.hotkey('alt','f4') #엑셀 창 닫기\n"
   ]
  }
 ],
 "metadata": {
  "interpreter": {
   "hash": "0ec66bbe782f389edb8615b95e71913b48001538f92dc4d53a6c71a0eff16772"
  },
  "kernelspec": {
   "display_name": "Python 3.9.5 64-bit",
   "name": "python3"
  },
  "language_info": {
   "codemirror_mode": {
    "name": "ipython",
    "version": 3
   },
   "file_extension": ".py",
   "mimetype": "text/x-python",
   "name": "python",
   "nbconvert_exporter": "python",
   "pygments_lexer": "ipython3",
   "version": "3.8.10"
  },
  "orig_nbformat": 4
 },
 "nbformat": 4,
 "nbformat_minor": 2
}
