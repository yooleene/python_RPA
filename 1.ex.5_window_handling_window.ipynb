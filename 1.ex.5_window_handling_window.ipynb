{
 "cells": [
  {
   "cell_type": "markdown",
   "metadata": {},
   "source": [
    "# 라이브러리 불러오기"
   ]
  },
  {
   "cell_type": "code",
   "execution_count": 2,
   "metadata": {},
   "outputs": [],
   "source": [
    "import pyautogui"
   ]
  },
  {
   "cell_type": "markdown",
   "metadata": {},
   "source": [
    "# 활성화 된 윈도우 핸들 정보 가져오기"
   ]
  },
  {
   "cell_type": "code",
   "execution_count": null,
   "metadata": {},
   "outputs": [],
   "source": [
    "win = pyautogui.getActiveWindow() #현재 활성화 되어 있는 윈도우 핸들 정보 가져오기 \n",
    "print(win.title)\n",
    "print(win.size)\n",
    "print(win.left, win.right, win.top, win.bottom)\n",
    "pyautogui.click(win.left+30, win.top+20)"
   ]
  },
  {
   "cell_type": "markdown",
   "metadata": {},
   "source": [
    "# 활성화 된 모든 윈도우 핸들 정보 가져오기"
   ]
  },
  {
   "cell_type": "code",
   "execution_count": null,
   "metadata": {},
   "outputs": [],
   "source": [
    "for win in pyautogui.getAllWindows(): #활성화된 모든 윈도우 정보 가져오기\n",
    "    print(win)"
   ]
  },
  {
   "cell_type": "markdown",
   "metadata": {},
   "source": [
    "# 특정 제목이 있는 윈도우 핸들 정보 가져오기"
   ]
  },
  {
   "cell_type": "code",
   "execution_count": null,
   "metadata": {},
   "outputs": [],
   "source": [
    "#메모장 실행하여 타이틀이 '제목없음'으로 활성화 한 후 진행\n",
    "for win in pyautogui.getWindowsWithTitle(\"제목 없음\"): #특정 제목이 있는 창의 정보 가져오기\n",
    "    print(win)"
   ]
  },
  {
   "cell_type": "markdown",
   "metadata": {},
   "source": [
    "# 특정 제목이 있는 윈도우를 최상위로 활성화"
   ]
  },
  {
   "cell_type": "code",
   "execution_count": 3,
   "metadata": {},
   "outputs": [],
   "source": [
    "win = pyautogui.getWindowsWithTitle(\"제목 없음\")[0] #특정 제목이 있는 창의 정보를 첫번째 리스트에 가져오기\n",
    "win.activate() # 활성화(최상위로 가져오기)"
   ]
  },
  {
   "cell_type": "code",
   "execution_count": 3,
   "metadata": {},
   "outputs": [],
   "source": [
    "#isActive 에러시: pywinauto 설치후 진행\n",
    "import pywinauto\n",
    "win = pyautogui.getWindowsWithTitle(\"제목 없음\")[0] #특정 제목이 있는 창의 정보를 첫번째 리스트에 가져오기\n",
    "\n",
    "pywinauto.application.Application().connect(handle=win._hWnd).top_window().set_focus()\n",
    "win.activate() # 활성화(최상위로 가져오기)"
   ]
  },
  {
   "cell_type": "markdown",
   "metadata": {},
   "source": [
    "# 윈도우를 최대/최소화/복원"
   ]
  },
  {
   "cell_type": "code",
   "execution_count": 4,
   "metadata": {},
   "outputs": [],
   "source": [
    "#에디터를 작게 해 놓고 실습\n",
    "win.maximize() #창 최대화"
   ]
  },
  {
   "cell_type": "code",
   "execution_count": 5,
   "metadata": {},
   "outputs": [],
   "source": [
    "win.minimize() #창 최대화"
   ]
  },
  {
   "cell_type": "code",
   "execution_count": 6,
   "metadata": {},
   "outputs": [],
   "source": [
    "win.restore() #크기 복원"
   ]
  },
  {
   "cell_type": "code",
   "execution_count": null,
   "metadata": {},
   "outputs": [],
   "source": [
    "win.close() #창 닫기(저장할 내용이 있으면 저장을 물어봄)"
   ]
  }
 ],
 "metadata": {
  "interpreter": {
   "hash": "da904fef6d3d21f571a32684c442a3d5f06136ad3962737ad0e04aa9c05f1d9b"
  },
  "kernelspec": {
   "display_name": "Python 3.9.7 64-bit",
   "name": "python3"
  },
  "language_info": {
   "codemirror_mode": {
    "name": "ipython",
    "version": 3
   },
   "file_extension": ".py",
   "mimetype": "text/x-python",
   "name": "python",
   "nbconvert_exporter": "python",
   "pygments_lexer": "ipython3",
   "version": "3.8.10"
  }
 },
 "nbformat": 4,
 "nbformat_minor": 4
}
